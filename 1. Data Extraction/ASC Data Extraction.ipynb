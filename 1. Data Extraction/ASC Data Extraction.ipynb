{
 "cells": [
  {
   "cell_type": "code",
   "execution_count": null,
   "id": "f5427a09-a01e-400c-8981-8e0891256db0",
   "metadata": {},
   "outputs": [],
   "source": [
    "# conda config --add channels conda-forge\n",
    "# conda install numpy"
   ]
  },
  {
   "cell_type": "code",
   "execution_count": 1,
   "id": "a539eee0-8330-4e49-b4cf-ce9153609473",
   "metadata": {},
   "outputs": [],
   "source": [
    "import os\n",
    "import glob\n",
    "# these packages were installed on the command line using conda install numpy\n",
    "import numpy as np\n",
    "import pandas as pd\n",
    "import geopandas as gpd\n",
    "import rasterio\n",
    "from shapely.geometry import Point\n",
    "from pathlib import Path"
   ]
  },
  {
   "cell_type": "code",
   "execution_count": 2,
   "id": "77c9d7a9-f80b-4a0c-888f-a5d420f17d3c",
   "metadata": {},
   "outputs": [],
   "source": [
    "# changing working directory\n",
    "os.chdir(\"/Users/alexis/Library/CloudStorage/OneDrive-UniversityofNorthCarolinaatChapelHill/PHE Database/2. Coding/2.2. Data Extraction/Input\")"
   ]
  },
  {
   "cell_type": "code",
   "execution_count": 3,
   "id": "2dee540d-360f-4103-9016-abc0d7ac93cd",
   "metadata": {},
   "outputs": [
    {
     "name": "stdout",
     "output_type": "stream",
     "text": [
      "Found 154 ASC files.\n"
     ]
    }
   ],
   "source": [
    "# reading in files\n",
    "# file path of all the ASC files\n",
    "folder_path = Path(\"/Users/alexis/Library/CloudStorage/OneDrive-UniversityofNorthCarolinaatChapelHill/PHE Database/2. Coding/2.2. Data Extraction/Input\")\n",
    "\n",
    "# How many asc files are in the folder?\n",
    "#for filename in glob.glob(os.path.join(folder_path,'*','*.asc')):\n",
    "asc_files = list(glob.glob(\"**/*.asc\", recursive = True))\n",
    "print(f\"Found {len(asc_files)} ASC files.\")"
   ]
  },
  {
   "cell_type": "code",
   "execution_count": 15,
   "id": "19faeed3-97bd-458a-bc50-ca403ab1a54d",
   "metadata": {},
   "outputs": [
    {
     "name": "stdout",
     "output_type": "stream",
     "text": [
      "ohio_clipped_downscaled_nldas_tmax_2020_229_.50_v3_final.asc\n",
      "229\n"
     ]
    },
    {
     "ename": "TypeError",
     "evalue": "concat() takes 1 positional argument but 2 were given",
     "output_type": "error",
     "traceback": [
      "\u001b[31m---------------------------------------------------------------------------\u001b[39m",
      "\u001b[31mTypeError\u001b[39m                                 Traceback (most recent call last)",
      "\u001b[36mCell\u001b[39m\u001b[36m \u001b[39m\u001b[32mIn[15]\u001b[39m\u001b[32m, line 41\u001b[39m\n\u001b[32m     38\u001b[39m         flat_df = flat_df[flat_df[\u001b[33m'\u001b[39m\u001b[33mvalue\u001b[39m\u001b[33m'\u001b[39m] != nodata]\n\u001b[32m     40\u001b[39m         \u001b[38;5;66;03m# storing data\u001b[39;00m\n\u001b[32m---> \u001b[39m\u001b[32m41\u001b[39m         empty_df = \u001b[43mpd\u001b[49m\u001b[43m.\u001b[49m\u001b[43mconcat\u001b[49m\u001b[43m(\u001b[49m\u001b[43mempty_df\u001b[49m\u001b[43m,\u001b[49m\u001b[43m \u001b[49m\u001b[43mflat_df\u001b[49m\u001b[43m)\u001b[49m\n\u001b[32m     43\u001b[39m         \u001b[38;5;66;03m#print(flat_df)\u001b[39;00m\n\u001b[32m     44\u001b[39m count = count + \u001b[32m1\u001b[39m\n",
      "\u001b[31mTypeError\u001b[39m: concat() takes 1 positional argument but 2 were given"
     ]
    }
   ],
   "source": [
    "# in python, we need count to remember the index\n",
    "# the iterator, 'i', gives us the actual value for that index\n",
    "count = 0\n",
    "empty_df = pd.DataFrame()\n",
    "\n",
    "for i in asc_files:\n",
    "    if count < 3:\n",
    "        # name of the parent folder\n",
    "        folder_name = os.path.dirname(asc_files[count])\n",
    "\n",
    "        # name of the file\n",
    "        file_stem = os.path.basename(asc_files[count])\n",
    "        print(file_stem)\n",
    "\n",
    "        # extract the day of the year\n",
    "        doy_str = file_stem.split('_')[-4]\n",
    "        doy = int(doy_str)\n",
    "        print(doy)\n",
    "\n",
    "        #print(f\"Processing DOY {doy}: {folder_name}/{file_stem}\")\n",
    "\n",
    "        with rasterio.open(i) as src:\n",
    "        \n",
    "            data = src.read(1)\n",
    "            transform = src.transform\n",
    "            nodata = src.nodata\n",
    "            rows, cols = data.shape\n",
    "            row_inds, col_inds = np.meshgrid(np.arange(rows), np.arange(cols), indexing='ij')\n",
    "            xs, ys = rasterio.transform.xy(transform, row_inds, col_inds)\n",
    "    \n",
    "            flat_df = pd.DataFrame({\n",
    "                'x': np.array(xs).flatten(),\n",
    "                'y': np.array(ys).flatten(),\n",
    "                'value': data.flatten()\n",
    "            })\n",
    "    \n",
    "            if nodata is not None:\n",
    "                flat_df = flat_df[flat_df['value'] != nodata]\n",
    "\n",
    "                # storing data\n",
    "                empty_df = pd.concat(flat_df)\n",
    "                \n",
    "                #print(flat_df)\n",
    "        count = count + 1"
   ]
  },
  {
   "cell_type": "code",
   "execution_count": 16,
   "id": "0305c1b3-5638-4228-80c1-1ade5814ad90",
   "metadata": {},
   "outputs": [],
   "source": [
    "# Extracting information I need\n",
    "pm25_data = [None] * 367      # 2020 is a leap year and there is no day 0\n",
    "count = 0\n",
    "for asc_path in asc_files:\n",
    "    folder_name = asc_path.parent.name\n",
    "    print(folder_name)\n",
    "    file_stem = asc_path.stem\n",
    "\n",
    "    # extract the day of the year\n",
    "    # doy_str = file_stem.split('_')[-1][-3:]\n",
    "    # doy = int(doy_str)\n",
    "\n",
    "    # print(f\"Processing DOY {doy}: {folder_name}/{file_stem}.asc\")\n",
    "\n",
    "    # with rasterio.open(asc_path) as src:\n",
    "        \n",
    "    #     data = src.read(1)\n",
    "    #     transform = src.transform\n",
    "    #     nodata = src.nodata\n",
    "    #     rows, cols = data.shape\n",
    "    #     row_inds, col_inds = np.meshgrid(np.arange(rows), np.arange(cols), indexing='ij')\n",
    "    #     xs, ys = rasterio.transform.xy(transform, row_inds, col_inds)\n",
    "\n",
    "    #     flat_df = pd.DataFrame({\n",
    "    #         'x': np.array(xs).flatten(),\n",
    "    #         'y': np.array(ys).flatten(),\n",
    "    #         'value': data.flatten()\n",
    "    #     })\n",
    "\n",
    "    #     if nodata is not None:\n",
    "    #         flat_df = flat_df[flat_df['value'] != nodata]\n",
    "\n",
    "    #     # Compose output filename using folder and asc file name\n",
    "    #     #output_csv = output_root / f\"{folder_name}_{file_stem}.csv\"\n",
    "    #     #flat_df.to_csv(output_csv, index=False)\n",
    "    #     pm25_data[doy] = flat_df\n",
    "\n",
    "    #     count = count + 1"
   ]
  },
  {
   "cell_type": "code",
   "execution_count": null,
   "id": "7af9cad2-faa8-45e1-8d9c-79d1c998c2d5",
   "metadata": {},
   "outputs": [],
   "source": []
  }
 ],
 "metadata": {
  "kernelspec": {
   "display_name": "Python 3 (ipykernel)",
   "language": "python",
   "name": "python3"
  },
  "language_info": {
   "codemirror_mode": {
    "name": "ipython",
    "version": 3
   },
   "file_extension": ".py",
   "mimetype": "text/x-python",
   "name": "python",
   "nbconvert_exporter": "python",
   "pygments_lexer": "ipython3",
   "version": "3.12.9"
  }
 },
 "nbformat": 4,
 "nbformat_minor": 5
}
