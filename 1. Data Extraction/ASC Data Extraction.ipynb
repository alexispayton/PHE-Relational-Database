{
 "cells": [
  {
   "cell_type": "code",
   "execution_count": null,
   "id": "f5427a09-a01e-400c-8981-8e0891256db0",
   "metadata": {},
   "outputs": [],
   "source": [
    "# conda config --add channels conda-forge\n",
    "# conda install numpy"
   ]
  },
  {
   "cell_type": "code",
   "execution_count": 1,
   "id": "a539eee0-8330-4e49-b4cf-ce9153609473",
   "metadata": {},
   "outputs": [],
   "source": [
    "import os\n",
    "import glob\n",
    "# these packages were installed on the command line using conda install numpy\n",
    "import numpy as np\n",
    "import pandas as pd\n",
    "import geopandas as gpd\n",
    "import rasterio\n",
    "from shapely.geometry import Point\n",
    "from pathlib import Path"
   ]
  },
  {
   "cell_type": "code",
   "execution_count": 19,
   "id": "77c9d7a9-f80b-4a0c-888f-a5d420f17d3c",
   "metadata": {},
   "outputs": [],
   "source": [
    "# changing working directory\n",
    "os.chdir(\"/Users/alexis/Library/CloudStorage/OneDrive-UniversityofNorthCarolinaatChapelHill/PHE Database/2. Coding/2.2. Data Extraction/Input\")"
   ]
  },
  {
   "cell_type": "code",
   "execution_count": 21,
   "id": "2dee540d-360f-4103-9016-abc0d7ac93cd",
   "metadata": {},
   "outputs": [
    {
     "name": "stdout",
     "output_type": "stream",
     "text": [
      "Found 154 ASC files.\n"
     ]
    }
   ],
   "source": [
    "# reading in files\n",
    "# file path of all the ASC files\n",
    "folder_path = Path(\"/Users/alexis/Library/CloudStorage/OneDrive-UniversityofNorthCarolinaatChapelHill/PHE Database/2. Coding/2.2. Data Extraction/Input\")\n",
    "\n",
    "# How many asc files are in the folder?\n",
    "#for filename in glob.glob(os.path.join(folder_path,'*','*.asc')):\n",
    "asc_files = list(glob.glob(\"**/*.asc\", recursive = True))\n",
    "print(f\"Found {len(asc_files)} ASC files.\")"
   ]
  },
  {
   "cell_type": "code",
   "execution_count": 16,
   "id": "0305c1b3-5638-4228-80c1-1ade5814ad90",
   "metadata": {},
   "outputs": [],
   "source": [
    "# Extracting information I need\n",
    "pm25_data = [None] * 367      # 2020 is a leap year and there is no day 0\n",
    "count = 0\n",
    "for filename in asc_files:\n",
    "    folder_name = asc_path.parent.name\n",
    "    print(folder_name)\n",
    "    file_stem = asc_path.stem\n",
    "\n",
    "    # extract the day of the year\n",
    "    # doy_str = file_stem.split('_')[-1][-3:]\n",
    "    # doy = int(doy_str)\n",
    "\n",
    "    # print(f\"Processing DOY {doy}: {folder_name}/{file_stem}.asc\")\n",
    "\n",
    "    # with rasterio.open(asc_path) as src:\n",
    "        \n",
    "    #     data = src.read(1)\n",
    "    #     transform = src.transform\n",
    "    #     nodata = src.nodata\n",
    "    #     rows, cols = data.shape\n",
    "    #     row_inds, col_inds = np.meshgrid(np.arange(rows), np.arange(cols), indexing='ij')\n",
    "    #     xs, ys = rasterio.transform.xy(transform, row_inds, col_inds)\n",
    "\n",
    "    #     flat_df = pd.DataFrame({\n",
    "    #         'x': np.array(xs).flatten(),\n",
    "    #         'y': np.array(ys).flatten(),\n",
    "    #         'value': data.flatten()\n",
    "    #     })\n",
    "\n",
    "    #     if nodata is not None:\n",
    "    #         flat_df = flat_df[flat_df['value'] != nodata]\n",
    "\n",
    "    #     # Compose output filename using folder and asc file name\n",
    "    #     #output_csv = output_root / f\"{folder_name}_{file_stem}.csv\"\n",
    "    #     #flat_df.to_csv(output_csv, index=False)\n",
    "    #     pm25_data[doy] = flat_df\n",
    "\n",
    "    #     count = count + 1"
   ]
  },
  {
   "cell_type": "code",
   "execution_count": null,
   "id": "24b6e2c5-12f6-4e2e-9db4-dece5b014807",
   "metadata": {},
   "outputs": [],
   "source": [
    "# reading in files\n",
    "test = \"/PM25_2020/Ohio_PM25_ExtractByMask_OutRaster_Final_Results_2020_DOY001.prj\"\n",
    "with open(test) as f:\n",
    "    prj_text = f.read()\n",
    "    print(prj_text)\n",
    "\n",
    "# Process GIS files for a single folder\n",
    "# Use standard values for comparison (PM2.5 accepted levels, etc.)\n",
    "\n",
    "input_root = Path(\"/data/epa_star/environmental_data/PM25_2020\")"
   ]
  },
  {
   "cell_type": "code",
   "execution_count": null,
   "id": "d49a86d4-4339-40a7-a1c6-9c8d14e5526a",
   "metadata": {},
   "outputs": [],
   "source": [
    "asc_files = list(input_root.glob(\"*.asc\"))\n",
    "print(f\"Found {len(asc_files)} ASC files.\")"
   ]
  },
  {
   "cell_type": "code",
   "execution_count": 12,
   "id": "9cfc8386-75e4-4063-8262-d9062750f9a2",
   "metadata": {},
   "outputs": [
    {
     "ename": "ValueError",
     "evalue": "invalid literal for int() with base 10: 'nal'",
     "output_type": "error",
     "traceback": [
      "\u001b[31m---------------------------------------------------------------------------\u001b[39m",
      "\u001b[31mValueError\u001b[39m                                Traceback (most recent call last)",
      "\u001b[36mCell\u001b[39m\u001b[36m \u001b[39m\u001b[32mIn[12]\u001b[39m\u001b[32m, line 9\u001b[39m\n\u001b[32m      7\u001b[39m \u001b[38;5;66;03m# extract the day of the year\u001b[39;00m\n\u001b[32m      8\u001b[39m doy_str = file_stem.split(\u001b[33m'\u001b[39m\u001b[33m_\u001b[39m\u001b[33m'\u001b[39m)[-\u001b[32m1\u001b[39m][-\u001b[32m3\u001b[39m:]\n\u001b[32m----> \u001b[39m\u001b[32m9\u001b[39m doy = \u001b[38;5;28;43mint\u001b[39;49m\u001b[43m(\u001b[49m\u001b[43mdoy_str\u001b[49m\u001b[43m)\u001b[49m\n\u001b[32m     11\u001b[39m \u001b[38;5;28mprint\u001b[39m(\u001b[33mf\u001b[39m\u001b[33m\"\u001b[39m\u001b[33mProcessing DOY \u001b[39m\u001b[38;5;132;01m{\u001b[39;00mdoy\u001b[38;5;132;01m}\u001b[39;00m\u001b[33m: \u001b[39m\u001b[38;5;132;01m{\u001b[39;00mfolder_name\u001b[38;5;132;01m}\u001b[39;00m\u001b[33m/\u001b[39m\u001b[38;5;132;01m{\u001b[39;00mfile_stem\u001b[38;5;132;01m}\u001b[39;00m\u001b[33m.asc\u001b[39m\u001b[33m\"\u001b[39m)\n\u001b[32m     13\u001b[39m \u001b[38;5;28;01mwith\u001b[39;00m rasterio.open(asc_path) \u001b[38;5;28;01mas\u001b[39;00m src:\n",
      "\u001b[31mValueError\u001b[39m: invalid literal for int() with base 10: 'nal'"
     ]
    }
   ],
   "source": [
    "pm25_data = [None] * 367      # 2020 is a leap year and there is no day 0\n",
    "count = 0\n",
    "for asc_path in asc_files:\n",
    "    folder_name = asc_path.parent.name\n",
    "    file_stem = asc_path.stem\n",
    "\n",
    "    # extract the day of the year\n",
    "    doy_str = file_stem.split('_')[-1][-3:]\n",
    "    doy = int(doy_str)\n",
    "\n",
    "    print(f\"Processing DOY {doy}: {folder_name}/{file_stem}.asc\")\n",
    "\n",
    "    with rasterio.open(asc_path) as src:\n",
    "        \n",
    "        data = src.read(1)\n",
    "        transform = src.transform\n",
    "        nodata = src.nodata\n",
    "        rows, cols = data.shape\n",
    "        row_inds, col_inds = np.meshgrid(np.arange(rows), np.arange(cols), indexing='ij')\n",
    "        xs, ys = rasterio.transform.xy(transform, row_inds, col_inds)\n",
    "\n",
    "        flat_df = pd.DataFrame({\n",
    "            'x': np.array(xs).flatten(),\n",
    "            'y': np.array(ys).flatten(),\n",
    "            'value': data.flatten()\n",
    "        })\n",
    "\n",
    "        if nodata is not None:\n",
    "            flat_df = flat_df[flat_df['value'] != nodata]\n",
    "\n",
    "        # Compose output filename using folder and asc file name\n",
    "        #output_csv = output_root / f\"{folder_name}_{file_stem}.csv\"\n",
    "        #flat_df.to_csv(output_csv, index=False)\n",
    "        pm25_data[doy] = flat_df\n",
    "\n",
    "        count = count + 1"
   ]
  },
  {
   "cell_type": "code",
   "execution_count": null,
   "id": "7af9cad2-faa8-45e1-8d9c-79d1c998c2d5",
   "metadata": {},
   "outputs": [],
   "source": []
  }
 ],
 "metadata": {
  "kernelspec": {
   "display_name": "Python 3 (ipykernel)",
   "language": "python",
   "name": "python3"
  },
  "language_info": {
   "codemirror_mode": {
    "name": "ipython",
    "version": 3
   },
   "file_extension": ".py",
   "mimetype": "text/x-python",
   "name": "python",
   "nbconvert_exporter": "python",
   "pygments_lexer": "ipython3",
   "version": "3.12.9"
  }
 },
 "nbformat": 4,
 "nbformat_minor": 5
}
