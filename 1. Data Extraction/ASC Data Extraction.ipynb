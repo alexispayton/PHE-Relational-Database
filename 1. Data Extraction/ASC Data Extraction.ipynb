{
 "cells": [
  {
   "cell_type": "code",
   "execution_count": null,
   "id": "f5427a09-a01e-400c-8981-8e0891256db0",
   "metadata": {},
   "outputs": [],
   "source": [
    "# conda config --add channels conda-forge\n",
    "# conda install numpy"
   ]
  },
  {
   "cell_type": "code",
   "execution_count": 1,
   "id": "a539eee0-8330-4e49-b4cf-ce9153609473",
   "metadata": {},
   "outputs": [],
   "source": [
    "import os\n",
    "import glob\n",
    "# these packages were installed on the command line using conda install numpy\n",
    "import numpy as np\n",
    "import pandas as pd\n",
    "import geopandas as gpd\n",
    "import rasterio\n",
    "from shapely.geometry import Point\n",
    "from pathlib import Path"
   ]
  },
  {
   "cell_type": "code",
   "execution_count": 2,
   "id": "77c9d7a9-f80b-4a0c-888f-a5d420f17d3c",
   "metadata": {},
   "outputs": [],
   "source": [
    "# changing working directory\n",
    "os.chdir(\"/Users/alexis/Library/CloudStorage/OneDrive-UniversityofNorthCarolinaatChapelHill/PHE Database/2. Coding/2.2. Data Extraction/Input\")"
   ]
  },
  {
   "cell_type": "code",
   "execution_count": 3,
   "id": "2dee540d-360f-4103-9016-abc0d7ac93cd",
   "metadata": {},
   "outputs": [
    {
     "name": "stdout",
     "output_type": "stream",
     "text": [
      "Found 154 ASC files.\n"
     ]
    }
   ],
   "source": [
    "# reading in files\n",
    "# file path of all the ASC files\n",
    "folder_path = Path(\"/Users/alexis/Library/CloudStorage/OneDrive-UniversityofNorthCarolinaatChapelHill/PHE Database/2. Coding/2.2. Data Extraction/Input\")\n",
    "\n",
    "# How many asc files are in the folder?\n",
    "#for filename in glob.glob(os.path.join(folder_path,'*','*.asc')):\n",
    "asc_files = list(glob.glob(\"**/*.asc\", recursive = True))\n",
    "print(f\"Found {len(asc_files)} ASC files.\")"
   ]
  },
  {
   "cell_type": "code",
   "execution_count": 5,
   "id": "d06a533e-d3db-4fc1-80b8-d7fdd93a08f0",
   "metadata": {},
   "outputs": [
    {
     "data": {
      "text/plain": [
       "'Daily_Tmax_2020/ohio_clipped_downscaled_nldas_tmax_2020_217_.50_v3_final.asc'"
      ]
     },
     "execution_count": 5,
     "metadata": {},
     "output_type": "execute_result"
    }
   ],
   "source": [
    "asc_files[1]"
   ]
  },
  {
   "cell_type": "code",
   "execution_count": 4,
   "id": "63852e0d-0881-4ddd-8a7e-ca42695569f6",
   "metadata": {},
   "outputs": [
    {
     "data": {
      "text/plain": [
       "'Daily_Tmax_2020'"
      ]
     },
     "execution_count": 4,
     "metadata": {},
     "output_type": "execute_result"
    }
   ],
   "source": [
    "os.path.dirname(asc_files[1])"
   ]
  },
  {
   "cell_type": "code",
   "execution_count": 27,
   "id": "19faeed3-97bd-458a-bc50-ca403ab1a54d",
   "metadata": {},
   "outputs": [
    {
     "name": "stdout",
     "output_type": "stream",
     "text": [
      "ohio_clipped_downscaled_nldas_tmax_2020_229_.50_v3_final.asc\n",
      "229\n",
      "                   x             y      value\n",
      "791     2.032326e+06  4.815818e+06  76.099998\n",
      "792     2.033252e+06  4.815818e+06  76.099998\n",
      "1204    2.030473e+06  4.814892e+06  75.900002\n",
      "1205    2.031399e+06  4.814892e+06  76.900002\n",
      "1206    2.032326e+06  4.814892e+06  76.500000\n",
      "...              ...           ...        ...\n",
      "195324  1.937810e+06  4.381231e+06  87.000000\n",
      "195325  1.938737e+06  4.381231e+06  87.199997\n",
      "195326  1.939663e+06  4.381231e+06  86.199997\n",
      "195327  1.940590e+06  4.381231e+06  86.599998\n",
      "195328  1.941516e+06  4.381231e+06  87.300003\n",
      "\n",
      "[130115 rows x 3 columns]\n",
      "ohio_clipped_downscaled_nldas_tmax_2020_217_.50_v3_final.asc\n",
      "217\n",
      "                   x             y      value\n",
      "791     2.032326e+06  4.815818e+06  76.099998\n",
      "792     2.033252e+06  4.815818e+06  76.099998\n",
      "1204    2.030473e+06  4.814892e+06  75.900002\n",
      "1205    2.031399e+06  4.814892e+06  76.900002\n",
      "1206    2.032326e+06  4.814892e+06  76.500000\n",
      "...              ...           ...        ...\n",
      "195324  1.937810e+06  4.381231e+06  87.000000\n",
      "195325  1.938737e+06  4.381231e+06  87.199997\n",
      "195326  1.939663e+06  4.381231e+06  86.199997\n",
      "195327  1.940590e+06  4.381231e+06  86.599998\n",
      "195328  1.941516e+06  4.381231e+06  87.300003\n",
      "\n",
      "[130115 rows x 3 columns]\n",
      "ohio_clipped_downscaled_nldas_tmax_2020_272_.50_v3_final.asc\n",
      "272\n",
      "                   x             y      value\n",
      "791     2.032326e+06  4.815818e+06  76.099998\n",
      "792     2.033252e+06  4.815818e+06  76.099998\n",
      "1204    2.030473e+06  4.814892e+06  75.900002\n",
      "1205    2.031399e+06  4.814892e+06  76.900002\n",
      "1206    2.032326e+06  4.814892e+06  76.500000\n",
      "...              ...           ...        ...\n",
      "195324  1.937810e+06  4.381231e+06  87.000000\n",
      "195325  1.938737e+06  4.381231e+06  87.199997\n",
      "195326  1.939663e+06  4.381231e+06  86.199997\n",
      "195327  1.940590e+06  4.381231e+06  86.599998\n",
      "195328  1.941516e+06  4.381231e+06  87.300003\n",
      "\n",
      "[130115 rows x 3 columns]\n"
     ]
    }
   ],
   "source": [
    "# in python, we need count to remember the index\n",
    "# the iterator, 'i', gives us the actual value for that index\n",
    "count = 0\n",
    "for i in asc_files:\n",
    "    if count < 3:\n",
    "        # name of the parent folder\n",
    "        folder_name = os.path.dirname(asc_files[count])\n",
    "\n",
    "        # name of the file\n",
    "        file_stem = os.path.basename(asc_files[count])\n",
    "        print(file_stem)\n",
    "\n",
    "        # extract the day of the year\n",
    "        doy_str = file_stem.split('_')[-4]\n",
    "        doy = int(doy_str)\n",
    "        print(doy)\n",
    "\n",
    "        #print(f\"Processing DOY {doy}: {folder_name}/{file_stem}\")\n",
    "\n",
    "        with rasterio.open(asc_path) as src:\n",
    "        \n",
    "            data = src.read(1)\n",
    "            transform = src.transform\n",
    "            nodata = src.nodata\n",
    "            rows, cols = data.shape\n",
    "            row_inds, col_inds = np.meshgrid(np.arange(rows), np.arange(cols), indexing='ij')\n",
    "            xs, ys = rasterio.transform.xy(transform, row_inds, col_inds)\n",
    "    \n",
    "            flat_df = pd.DataFrame({\n",
    "                'x': np.array(xs).flatten(),\n",
    "                'y': np.array(ys).flatten(),\n",
    "                'value': data.flatten()\n",
    "            })\n",
    "    \n",
    "            if nodata is not None:\n",
    "                flat_df = flat_df[flat_df['value'] != nodata]\n",
    "\n",
    "                print(flat_df)\n",
    "        count = count + 1"
   ]
  },
  {
   "cell_type": "code",
   "execution_count": 16,
   "id": "0305c1b3-5638-4228-80c1-1ade5814ad90",
   "metadata": {},
   "outputs": [],
   "source": [
    "# Extracting information I need\n",
    "pm25_data = [None] * 367      # 2020 is a leap year and there is no day 0\n",
    "count = 0\n",
    "for asc_path in asc_files:\n",
    "    folder_name = asc_path.parent.name\n",
    "    print(folder_name)\n",
    "    file_stem = asc_path.stem\n",
    "\n",
    "    # extract the day of the year\n",
    "    # doy_str = file_stem.split('_')[-1][-3:]\n",
    "    # doy = int(doy_str)\n",
    "\n",
    "    # print(f\"Processing DOY {doy}: {folder_name}/{file_stem}.asc\")\n",
    "\n",
    "    # with rasterio.open(asc_path) as src:\n",
    "        \n",
    "    #     data = src.read(1)\n",
    "    #     transform = src.transform\n",
    "    #     nodata = src.nodata\n",
    "    #     rows, cols = data.shape\n",
    "    #     row_inds, col_inds = np.meshgrid(np.arange(rows), np.arange(cols), indexing='ij')\n",
    "    #     xs, ys = rasterio.transform.xy(transform, row_inds, col_inds)\n",
    "\n",
    "    #     flat_df = pd.DataFrame({\n",
    "    #         'x': np.array(xs).flatten(),\n",
    "    #         'y': np.array(ys).flatten(),\n",
    "    #         'value': data.flatten()\n",
    "    #     })\n",
    "\n",
    "    #     if nodata is not None:\n",
    "    #         flat_df = flat_df[flat_df['value'] != nodata]\n",
    "\n",
    "    #     # Compose output filename using folder and asc file name\n",
    "    #     #output_csv = output_root / f\"{folder_name}_{file_stem}.csv\"\n",
    "    #     #flat_df.to_csv(output_csv, index=False)\n",
    "    #     pm25_data[doy] = flat_df\n",
    "\n",
    "    #     count = count + 1"
   ]
  },
  {
   "cell_type": "code",
   "execution_count": null,
   "id": "7af9cad2-faa8-45e1-8d9c-79d1c998c2d5",
   "metadata": {},
   "outputs": [],
   "source": []
  }
 ],
 "metadata": {
  "kernelspec": {
   "display_name": "Python 3 (ipykernel)",
   "language": "python",
   "name": "python3"
  },
  "language_info": {
   "codemirror_mode": {
    "name": "ipython",
    "version": 3
   },
   "file_extension": ".py",
   "mimetype": "text/x-python",
   "name": "python",
   "nbconvert_exporter": "python",
   "pygments_lexer": "ipython3",
   "version": "3.12.9"
  }
 },
 "nbformat": 4,
 "nbformat_minor": 5
}
