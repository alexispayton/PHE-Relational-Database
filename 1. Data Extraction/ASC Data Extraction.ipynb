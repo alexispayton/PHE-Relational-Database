{
 "cells": [
  {
   "cell_type": "code",
   "execution_count": 1,
   "id": "f5427a09-a01e-400c-8981-8e0891256db0",
   "metadata": {},
   "outputs": [],
   "source": [
    "# conda config --add channels conda-forge\n",
    "# conda install numpy\n",
    "# conda install pandas openpyxl"
   ]
  },
  {
   "cell_type": "code",
   "execution_count": 2,
   "id": "a539eee0-8330-4e49-b4cf-ce9153609473",
   "metadata": {},
   "outputs": [],
   "source": [
    "import os\n",
    "import glob\n",
    "import re\n",
    "import openpyxl\n",
    "# these packages were installed on the command line using conda install numpy\n",
    "import numpy as np\n",
    "import pandas as pd\n",
    "import geopandas as gpd\n",
    "import rasterio\n",
    "from shapely.geometry import Point\n",
    "from pathlib import Path"
   ]
  },
  {
   "cell_type": "code",
   "execution_count": 3,
   "id": "77c9d7a9-f80b-4a0c-888f-a5d420f17d3c",
   "metadata": {},
   "outputs": [],
   "source": [
    "# changing working directory\n",
    "os.chdir(\"/Users/alexis/Library/CloudStorage/OneDrive-UniversityofNorthCarolinaatChapelHill/PHE Database/2. Coding/2.2. Data Extraction/Input\")"
   ]
  },
  {
   "cell_type": "code",
   "execution_count": 4,
   "id": "2dee540d-360f-4103-9016-abc0d7ac93cd",
   "metadata": {},
   "outputs": [],
   "source": [
    "# reading in files\n",
    "# file path of all the ASC files\n",
    "#folder_path = Path(\"/Users/alexis/Library/CloudStorage/OneDrive-UniversityofNorthCarolinaatChapelHill/PHE Database/2. Coding/2.2. Data Extraction/Input\")\n",
    "\n",
    "# How many asc files are in the folder?\n",
    "#for filename in glob.glob(os.path.join(folder_path,'*','*.asc')):\n",
    "#asc_files = list(glob.glob(\"**/*.asc\", recursive = True))\n",
    "#print(f\"Found {len(asc_files)} ASC files.\")"
   ]
  },
  {
   "cell_type": "code",
   "execution_count": 5,
   "id": "da7027e7-8aef-4379-8a3e-50d1baed5242",
   "metadata": {},
   "outputs": [],
   "source": [
    "path = \"/Users/alexis/Library/CloudStorage/OneDrive-UniversityofNorthCarolinaatChapelHill/PHE Database/2. Coding/2.2. Data Extraction/Input\"\n",
    "folder_names = os.listdir(path)\n",
    "\n",
    "def get_folder_path(names):\n",
    "    # creating a function to get the paths for each folder\n",
    "    count = 0\n",
    "    path_array = []\n",
    "    for i in names:\n",
    "        folder_path = path + \"/\" + names[count]\n",
    "        path_array.append(folder_path)\n",
    "\n",
    "        count += 1\n",
    "\n",
    "    return path_array"
   ]
  },
  {
   "cell_type": "code",
   "execution_count": 6,
   "id": "a167cafc-7cac-4bf9-861e-875c4ead69c7",
   "metadata": {},
   "outputs": [],
   "source": [
    "# calling fn\n",
    "ohio_tmax_2020_path = get_folder_path(folder_names)[0]\n",
    "ohio_tmax_2021_path = get_folder_path(folder_names)[1]\n",
    "ohio_tmax_2022_path = get_folder_path(folder_names)[9]\n",
    "ohio_HI_2020_path = get_folder_path(folder_names)[8]\n",
    "ohio_HI_2021_path = get_folder_path(folder_names)[10]\n",
    "ohio_HI_2022_path = get_folder_path(folder_names)[2]\n",
    "ohio_tmin_2020_path = get_folder_path(folder_names)[7]\n",
    "ohio_tmin_2021_path = get_folder_path(folder_names)[5]\n",
    "ohio_tmin_2022_path = get_folder_path(folder_names)[12]\n",
    "ohio_PM_2020_path = get_folder_path(folder_names)[6]\n",
    "ohio_PM_2021_path = get_folder_path(folder_names)[4]\n",
    "ohio_PM_2022_path = get_folder_path(folder_names)[11]"
   ]
  },
  {
   "cell_type": "code",
   "execution_count": 7,
   "id": "19faeed3-97bd-458a-bc50-ca403ab1a54d",
   "metadata": {},
   "outputs": [],
   "source": [
    "# in python, we need count to remember the index\n",
    "# the iterator, 'i', gives us the actual value for that index\n",
    "def getdata(path_name, doy_index):\n",
    "    count = 0\n",
    "    all_df = pd.DataFrame()\n",
    "\n",
    "    # getting names of all the files\n",
    "    asc_files = glob.glob(path_name + \"**/*.asc\")\n",
    "    \n",
    "    for i in asc_files:\n",
    "        # name of the parent folder\n",
    "        folder_name = os.path.dirname(asc_files[count])\n",
    "\n",
    "        # name of the file\n",
    "        file_stem = os.path.basename(asc_files[count])\n",
    "\n",
    "        # splitting the string of file stem to get year, DOY, state, and the variable\n",
    "        # split by an underscore or period\n",
    "        split_str = re.split(r'[_.]+', file_stem) \n",
    "        doy = split_str[doy_index]\n",
    "\n",
    "        with rasterio.open(i) as src:\n",
    "        \n",
    "            data = src.read(1)\n",
    "            transform = src.transform\n",
    "            nodata = src.nodata\n",
    "            rows, cols = data.shape\n",
    "            row_inds, col_inds = np.meshgrid(np.arange(rows), np.arange(cols), indexing = 'ij')\n",
    "            xs, ys = rasterio.transform.xy(transform, row_inds, col_inds)\n",
    "    \n",
    "            flat_df = pd.DataFrame({\n",
    "                'DOY': doy, \n",
    "                'x': np.array(xs).flatten(),\n",
    "                'y': np.array(ys).flatten(),\n",
    "                'Value': data.flatten()\n",
    "            })\n",
    "    \n",
    "            if nodata is not None:\n",
    "                flat_df = flat_df[flat_df['Value'] != nodata]\n",
    "\n",
    "                # storing data\n",
    "                all_df = pd.concat([all_df, flat_df])\n",
    "                \n",
    "        count += 1\n",
    "        \n",
    "    return(all_df)"
   ]
  },
  {
   "cell_type": "code",
   "execution_count": 8,
   "id": "21a68fe5-df57-45aa-88d4-e15017706e22",
   "metadata": {},
   "outputs": [],
   "source": [
    "# calling fn\n",
    "ohio_tmax_2020_df = getdata(ohio_tmax_2020_path, -4)\n",
    "ohio_tmax_2021_df = getdata(ohio_tmax_2021_path, -4)\n",
    "ohio_tmax_2022_df = getdata(ohio_tmax_2022_path, -4)\n",
    "ohio_tmin_2020_df = getdata(ohio_tmin_2020_path, -4)\n",
    "ohio_tmin_2021_df = getdata(ohio_tmin_2021_path, -4)\n",
    "ohio_tmin_2022_df = getdata(ohio_tmin_2022_path, -4)\n",
    "ohio_HI_2020_df = getdata(ohio_HI_2020_path, -2)\n",
    "ohio_HI_2021_df = getdata(ohio_HI_2021_path, -2)\n",
    "ohio_HI_2022_df = getdata(ohio_HI_2022_path, -2)\n",
    "ohio_PM_2020_df = getdata(ohio_PM_2020_path, -2)\n",
    "ohio_PM_2021_df = getdata(ohio_PM_2021_path, -2)\n",
    "ohio_PM_2022_df = getdata(ohio_PM_2022_path, -2)"
   ]
  },
  {
   "cell_type": "code",
   "execution_count": 9,
   "id": "4b6d9b4c-bcfc-4a1b-a075-e72fd25c925b",
   "metadata": {},
   "outputs": [
    {
     "data": {
      "text/html": [
       "<div>\n",
       "<style scoped>\n",
       "    .dataframe tbody tr th:only-of-type {\n",
       "        vertical-align: middle;\n",
       "    }\n",
       "\n",
       "    .dataframe tbody tr th {\n",
       "        vertical-align: top;\n",
       "    }\n",
       "\n",
       "    .dataframe thead th {\n",
       "        text-align: right;\n",
       "    }\n",
       "</style>\n",
       "<table border=\"1\" class=\"dataframe\">\n",
       "  <thead>\n",
       "    <tr style=\"text-align: right;\">\n",
       "      <th></th>\n",
       "      <th>DOY</th>\n",
       "      <th>x</th>\n",
       "      <th>y</th>\n",
       "      <th>Value</th>\n",
       "    </tr>\n",
       "  </thead>\n",
       "  <tbody>\n",
       "    <tr>\n",
       "      <th>791</th>\n",
       "      <td>50</td>\n",
       "      <td>2.032326e+06</td>\n",
       "      <td>4.815818e+06</td>\n",
       "      <td>76.099998</td>\n",
       "    </tr>\n",
       "    <tr>\n",
       "      <th>792</th>\n",
       "      <td>50</td>\n",
       "      <td>2.033252e+06</td>\n",
       "      <td>4.815818e+06</td>\n",
       "      <td>76.099998</td>\n",
       "    </tr>\n",
       "    <tr>\n",
       "      <th>1204</th>\n",
       "      <td>50</td>\n",
       "      <td>2.030473e+06</td>\n",
       "      <td>4.814892e+06</td>\n",
       "      <td>75.900002</td>\n",
       "    </tr>\n",
       "    <tr>\n",
       "      <th>1205</th>\n",
       "      <td>50</td>\n",
       "      <td>2.031399e+06</td>\n",
       "      <td>4.814892e+06</td>\n",
       "      <td>76.900002</td>\n",
       "    </tr>\n",
       "    <tr>\n",
       "      <th>1206</th>\n",
       "      <td>50</td>\n",
       "      <td>2.032326e+06</td>\n",
       "      <td>4.814892e+06</td>\n",
       "      <td>76.500000</td>\n",
       "    </tr>\n",
       "  </tbody>\n",
       "</table>\n",
       "</div>"
      ],
      "text/plain": [
       "     DOY             x             y      Value\n",
       "791   50  2.032326e+06  4.815818e+06  76.099998\n",
       "792   50  2.033252e+06  4.815818e+06  76.099998\n",
       "1204  50  2.030473e+06  4.814892e+06  75.900002\n",
       "1205  50  2.031399e+06  4.814892e+06  76.900002\n",
       "1206  50  2.032326e+06  4.814892e+06  76.500000"
      ]
     },
     "execution_count": 9,
     "metadata": {},
     "output_type": "execute_result"
    }
   ],
   "source": [
    "# viewing data\n",
    "ohio_tmax_2020_df.head()"
   ]
  },
  {
   "cell_type": "code",
   "execution_count": 10,
   "id": "7c940451-a9ef-4f39-8984-80c5bb738a30",
   "metadata": {},
   "outputs": [],
   "source": [
    "# # creating 1 df\n",
    "# final_df = pd.concat([ohio_tmax_2020_df, ohio_tmax_2021_df])\n",
    "# final_df.head()"
   ]
  },
  {
   "cell_type": "code",
   "execution_count": 26,
   "id": "927abf26-3aa6-4b40-846d-6de266fee88d",
   "metadata": {},
   "outputs": [
    {
     "data": {
      "text/plain": [
       "20037710"
      ]
     },
     "execution_count": 26,
     "metadata": {},
     "output_type": "execute_result"
    }
   ],
   "source": [
    "# Getting number of dimensions\n",
    "ohio_tmax_2020_df.shape[0] "
   ]
  },
  {
   "cell_type": "code",
   "execution_count": 29,
   "id": "7af9cad2-faa8-45e1-8d9c-79d1c998c2d5",
   "metadata": {},
   "outputs": [],
   "source": [
    "# exporting data\n",
    "output = \"/Users/alexis/Library/CloudStorage/OneDrive-UniversityofNorthCarolinaatChapelHill/PHE Database/2. Coding/2.2. Data Extraction/Output\"\n",
    "ohio_tmax_2020_df.to_csv(output + \"/\" + 'Ohio_Tmax_2020.csv')\n",
    "ohio_tmax_2021_df.to_csv(output + \"/\" + 'Ohio_Tmax_2021.csv')\n",
    "ohio_tmax_2022_df.to_csv(output + \"/\" + 'Ohio_Tmax_2022.csv')\n",
    "ohio_PM_2020_df.to_csv(output + \"/\" + 'Ohio_PM_2020.csv')\n",
    "ohio_PM_2021_df.to_csv(output + \"/\" + 'Ohio_PM_2021.csv')\n",
    "ohio_PM_2022_df.to_csv(output + \"/\" + 'Ohio_PM_2022.csv')\n",
    "ohio_tmin_2020_df.to_csv(output + \"/\" + 'Ohio_Tmin_2020.csv')\n",
    "ohio_tmin_2021_df.to_csv(output + \"/\" + 'Ohio_Tmin_2021.csv')\n",
    "ohio_tmin_2022_df.to_csv(output + \"/\" + 'Ohio_Tmin_2022.csv')\n",
    "ohio_HI_2020_df.to_csv(output + \"/\" + 'Ohio_HI_2020.csv')\n",
    "ohio_HI_2021_df.to_csv(output + \"/\" + 'Ohio_HI_2021.csv')\n",
    "ohio_HI_2022_df.to_csv(output + \"/\" + 'Ohio_HI_2022.csv')"
   ]
  },
  {
   "cell_type": "code",
   "execution_count": null,
   "id": "71b48c9e-5ce6-445a-ac25-28339ade5b7e",
   "metadata": {},
   "outputs": [],
   "source": []
  }
 ],
 "metadata": {
  "kernelspec": {
   "display_name": "Python 3 (ipykernel)",
   "language": "python",
   "name": "python3"
  },
  "language_info": {
   "codemirror_mode": {
    "name": "ipython",
    "version": 3
   },
   "file_extension": ".py",
   "mimetype": "text/x-python",
   "name": "python",
   "nbconvert_exporter": "python",
   "pygments_lexer": "ipython3",
   "version": "3.12.9"
  }
 },
 "nbformat": 4,
 "nbformat_minor": 5
}
