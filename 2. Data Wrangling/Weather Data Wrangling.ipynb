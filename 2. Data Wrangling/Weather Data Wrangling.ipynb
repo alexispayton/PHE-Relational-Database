{
 "cells": [
  {
   "cell_type": "code",
   "execution_count": null,
   "id": "4154d64d-dc36-48b3-9d54-208ccc838607",
   "metadata": {
    "scrolled": true
   },
   "outputs": [],
   "source": [
    ".libPaths(R.home('/opt/homebrew/Caskroom/miniforge/base/lib/R/library'))\n",
    "Output = '/Users/alexis/Library/CloudStorage/OneDrive-UniversityofNorthCarolinaatChapelHill/PHE Database/2. Coding/2.3. Data Wrangling/Output'\n",
    "cur_date = '081925'\n",
    "\n",
    "library(readxl)\n",
    "library(tidyverse)\n",
    "library(reshape2)\n",
    "library(lubridate)\n",
    "library(oce)\n",
    "library(tigris)\n",
    "\n",
    "# reading in files\n",
    "ohio_tmax_2020_df = read_csv(\"Input/Ohio_Tmax_2020.csv\")\n",
    "ohio_tmax_2021_df = read_csv('Input/Ohio_Tmax_2021.csv')\n",
    "ohio_tmax_2022_df = read_csv('Input/Ohio_Tmax_2022.csv')\n",
    "ohio_PM_2020_df = read_csv('Input/Ohio_PM_2020.csv')\n",
    "ohio_PM_2021_df = read_csv('Input/Ohio_PM_2021.csv')\n",
    "ohio_PM_2022_df = read_csv('Input/Ohio_PM_2022.csv')\n",
    "ohio_tmin_2020_df = read_csv('Input/Ohio_Tmin_2020.csv')\n",
    "ohio_tmin_2021_df = read_csv('Input/Ohio_Tmin_2021.csv')\n",
    "ohio_tmin_2022_df = read_csv('Input/Ohio_Tmin_2022.csv')\n",
    "ohio_HI_2020_df = read_csv('Input/Ohio_HI_2020.csv')\n",
    "ohio_HI_2021_df = read_csv('Input/Ohio_HI_2021.csv')\n",
    "ohio_HI_2022_df = read_csv('Input/Ohio_HI_2022.csv')"
   ]
  },
  {
   "cell_type": "code",
   "execution_count": null,
   "id": "af7530d4-0251-485e-8a78-1f25e49c11f0",
   "metadata": {},
   "outputs": [],
   "source": [
    "head(ohio_tmax_2020_df)"
   ]
  },
  {
   "cell_type": "code",
   "execution_count": null,
   "id": "dda27bac-9f9d-4fe3-8349-5578453f904f",
   "metadata": {},
   "outputs": [],
   "source": [
    "convert_date = function(df, collection_year, variable){\n",
    "    # \"\"\"\n",
    "    # Creating a function to convert day of the year into a date with the month, day, and year\n",
    "    # :param (input): dataframe, year the data was collected, variable name\n",
    "    # :output: 1 df containing the coordinates, value, date of collection, variable name\n",
    "    # \"\"\"\n",
    "    \n",
    "    new_df = df %>%\n",
    "        mutate(Month = month(as_date(DOY)), Day = mday(as_date(DOY)), Year = collection_year,\n",
    "           Date = format(make_date(month = Month, day = Day, year = Year), format = \"%m/%d/%Y\"),\n",
    "           # adding in the variable's name\n",
    "           VariableName = variable) %>%\n",
    "        select(-c('DOY', \"Month\", \"Day\", \"Year\")) \n",
    "\n",
    "    return(new_df)\n",
    "    }\n",
    "\n",
    "# calling fn\n",
    "converted_tmax_2020_df = convert_date(ohio_tmax_2020_df, 2020, 'Maximum Temperature')\n",
    "converted_tmax_2021_df = convert_date(ohio_tmax_2021_df, 2021, 'Maximum Temperature')\n",
    "converted_tmax_2022_df = convert_date(ohio_tmax_2022_df, 2022, 'Maximum Temperature')\n",
    "converted_HI_2020_df = convert_date(ohio_HI_2020_df, 2020, 'Heat Index')\n",
    "converted_HI_2021_df = convert_date(ohio_HI_2021_df, 2021, 'Heat Index')\n",
    "converted_HI_2022_df = convert_date(ohio_HI_2022_df, 2022, 'Heat Index')\n",
    "converted_tmin_2020_df = convert_date(ohio_tmin_2020_df, 2020, 'Minimum Temperature')\n",
    "converted_tmin_2021_df = convert_date(ohio_tmin_2021_df, 2021, 'Minimum Temperature')\n",
    "converted_tmin_2022_df = convert_date(ohio_tmin_2022_df, 2022, 'Minimum Temperature')\n",
    "# moving around these col names here to combine dfs below\n",
    "converted_PM_2020_df = convert_date(ohio_PM_2020_df, 2020, 'PM2.5') %>%\n",
    "    rename(Latitude = y, Longitude = x) %>%\n",
    "    relocate(c(\"Latitude\", \"Longitude\"), .after = VariableName)\n",
    "converted_PM_2021_df = convert_date(ohio_PM_2021_df, 2021, 'PM2.5') %>%\n",
    "    rename(Latitude = y, Longitude = x) %>%\n",
    "    relocate(c(\"Latitude\", \"Longitude\"), .after = VariableName)\n",
    "converted_PM_2022_df = convert_date(ohio_PM_2022_df, 2022, 'PM2.5') %>%\n",
    "    rename(Latitude = y, Longitude = x) %>%\n",
    "    relocate(c(\"Latitude\", \"Longitude\"), .after = VariableName)\n",
    "\n",
    "head(converted_tmax_2020_df)"
   ]
  },
  {
   "cell_type": "code",
   "execution_count": null,
   "id": "3817a208-16c6-4efe-ac28-58da2a34e331",
   "metadata": {},
   "outputs": [],
   "source": [
    "convert_coordinates = function(df){\n",
    "    # \"\"\"\n",
    "    # Creating a function to convert UTM coordinates to latitude and longitude\n",
    "    # :param (input): dataframe\n",
    "    # :output: dataframe\n",
    "    # \"\"\"\n",
    "\n",
    "    coordinates_df = df %>%\n",
    "        # zone 14 is for Ohio\n",
    "        mutate(Latitude = utm2lonlat(easting = x, northing = y, zone = 14)[[1]],\n",
    "              Longitude = utm2lonlat(easting = x, northing = y, zone = 14)[[2]]) %>%\n",
    "        select(-c('x', 'y')) \n",
    "    \n",
    "    return(coordinates_df)\n",
    "}\n",
    "\n",
    "# calling fn\n",
    "final_tmax_2020_df = convert_coordinates(converted_tmax_2020_df)\n",
    "final_tmax_2021_df = convert_coordinates(converted_tmax_2021_df)\n",
    "final_tmax_2022_df = convert_coordinates(converted_tmax_2022_df)\n",
    "final_HI_2020_df = convert_coordinates(converted_HI_2020_df)\n",
    "final_HI_2021_df = convert_coordinates(converted_HI_2021_df)\n",
    "final_HI_2022_df = convert_coordinates(converted_HI_2022_df)\n",
    "final_tmin_2020_df = convert_coordinates(converted_tmin_2020_df)\n",
    "final_tmin_2021_df = convert_coordinates(converted_tmin_2021_df)\n",
    "final_tmin_2022_df = convert_coordinates(converted_tmin_2022_df)\n",
    "\n",
    "head(final_tmax_2020_df)"
   ]
  },
  {
   "cell_type": "markdown",
   "id": "6b5a4314-929a-4eec-b72e-5ec6edc662b3",
   "metadata": {},
   "source": [
    "Now breaking these data up into the dataframes that they will be stored in for the database. We'll have separate dataframes for each year. "
   ]
  },
  {
   "cell_type": "code",
   "execution_count": null,
   "id": "d2b6fa58-d8be-460a-b90b-f3af5833ae63",
   "metadata": {},
   "outputs": [],
   "source": [
    "twenty20_df = rbind(converted_PM_2020_df, final_HI_2020_df, final_tmax_2020_df, final_tmin_2020_df)\n",
    "twenty21_df = rbind(converted_PM_2021_df, final_HI_2021_df, final_tmax_2021_df, final_tmin_2021_df)\n",
    "twenty22_df = rbind(converted_PM_2022_df, final_HI_2022_df, final_tmax_2022_df, final_tmin_2022_df)"
   ]
  },
  {
   "cell_type": "code",
   "execution_count": null,
   "id": "09b9945d-e8b0-40ac-9be8-7d67daa8ca6f",
   "metadata": {},
   "outputs": [],
   "source": [
    "split_dfs = function(df){\n",
    "    # \"\"\"\n",
    "    # Creating a function to add in georaphic id and variable ids\n",
    "    # :param (input): dataframe\n",
    "    # :output: a list of dataframes for geography, variable, value\n",
    "    # \"\"\"\n",
    "\n",
    "    new_df = df %>%\n",
    "        mutate(Num = 1:n(), GeographyWID = paste0('GEOW', Num), ValueID = paste0('Val', Num),\n",
    "              VariableID = ifelse(VariableName == \"PM2.5\", 'PM',\n",
    "                                      ifelse(VariableName == \"Maximum Temperature\",'MaxT',\n",
    "                                          ifelse(VariableName == \"Minimum Temperature\", 'MinT',\n",
    "                                              ifelse(VariableName == \"Heat Index\", 'HI', NA))))) %>%\n",
    "        select(-Num)\n",
    "\n",
    "    # creating the geography weather df\n",
    "    geo_df = unique(new_df[,c(6,4,5)])\n",
    "\n",
    "    # creating the variable df\n",
    "    var_df = unique(new_df[,c(8,3)]) %>%\n",
    "        # adding in units\n",
    "        mutate(DataUnitName = ifelse(VariableName == \"PM2.5\", 'mcg/m^3',\n",
    "                                      ifelse(VariableName == \"Maximum Temperature\",'Fahrenheit',\n",
    "                                          ifelse(VariableName == \"Minimum Temperature\", 'Fahrenheit',\n",
    "                                              ifelse(VariableName == \"Heat Index\", 'Fahrenheit', NA)))))\n",
    "\n",
    "    # value df\n",
    "    value_df = new_df[,c(7,8,6,2,1)] \n",
    "\n",
    "    return(list(geo_df, var_df, value_df))\n",
    "}\n",
    "\n",
    "# calling fn\n",
    "split_twenty20_dfs = split_dfs(twenty20_df)\n",
    "split_twenty21_dfs = split_dfs(twenty21_df)\n",
    "split_twenty22_dfs = split_dfs(twenty22_df)"
   ]
  },
  {
   "cell_type": "code",
   "execution_count": null,
   "id": "b88d9845-c4e6-44b4-a543-843fb9271589",
   "metadata": {},
   "outputs": [],
   "source": [
    "# viewing\n",
    "head(split_twenty20_dfs[[1]])\n",
    "head(split_twenty20_dfs[[2]])\n",
    "head(split_twenty20_dfs[[3]])"
   ]
  },
  {
   "cell_type": "markdown",
   "id": "ca9130e7-4fc6-4275-b839-905988166b39",
   "metadata": {},
   "source": [
    "Adding in additional geography data like census tract, county name, and the FIPS code to the geography dataframes."
   ]
  },
  {
   "cell_type": "code",
   "execution_count": null,
   "id": "62ec942c-c488-454f-95a9-6e356f769796",
   "metadata": {},
   "outputs": [],
   "source": [
    "# download shapefile from the tigris (census package)\n",
    "ohio_county_shapefile = data.frame(tracts(state = \"Ohio\", year = 2020)[,c(2,4,5,11,12)]) %>%\n",
    "    rename(FIPS = GEOID, CensusTract = NAME, Latitude = INTPTLON, Longitude = INTPTLAT) %>%\n",
    "    select(-geometry) %>%\n",
    "    mutate(Latitude = as.numeric(Latitude), Longitude = as.numeric(Longitude))\n",
    "\n",
    "head(ohio_county_shapefile)"
   ]
  },
  {
   "cell_type": "markdown",
   "id": "31bce159-b24e-4683-8f07-d2091dad4162",
   "metadata": {},
   "source": [
    "Finding the min and max latitude and longitude coordinates for each census tract in order to figure out what census tract each pair of coordinates reside in."
   ]
  },
  {
   "cell_type": "code",
   "execution_count": null,
   "id": "3cc714de-1549-4d3c-9ebe-30b0188eab8c",
   "metadata": {},
   "outputs": [],
   "source": [
    "length(unique(ohio_county_shapefile$CensusTract))"
   ]
  },
  {
   "cell_type": "markdown",
   "id": "6aa5b965-b31f-4bba-9b7e-5ae32e5b7ce1",
   "metadata": {},
   "source": [
    "Ohio actually has 2,952 census tracts, meaning we're missing about 400 from the tracts that were downloaded from the `tigris` package."
   ]
  },
  {
   "cell_type": "code",
   "execution_count": null,
   "id": "9a24c584-f09f-4576-bb83-5bfcc8536952",
   "metadata": {},
   "outputs": [],
   "source": [
    "min_max_coord_df = ohio_county_shapefile %>%\n",
    "    group_by(CensusTract) %>%\n",
    "    summarize(min_long = min(Longitude), max_long = max(Longitude),\n",
    "            min_lat = min(Latitude), max_lat = max(Latitude))\n",
    "\n",
    "head(min_max_coord_df)"
   ]
  },
  {
   "cell_type": "code",
   "execution_count": null,
   "id": "09bd90de-6bce-4b95-a22a-2897fa7ddbff",
   "metadata": {},
   "outputs": [],
   "source": [
    "geography_2020_df = head(split_twenty20_dfs[[1]]) \n",
    "\n",
    "head(geography_2020_df)"
   ]
  },
  {
   "cell_type": "code",
   "execution_count": null,
   "id": "c41318e9-2f32-487e-9ba2-8c404c643ea4",
   "metadata": {},
   "outputs": [],
   "source": []
  }
 ],
 "metadata": {
  "kernelspec": {
   "display_name": "R",
   "language": "R",
   "name": "ir"
  },
  "language_info": {
   "codemirror_mode": "r",
   "file_extension": ".r",
   "mimetype": "text/x-r-source",
   "name": "R",
   "pygments_lexer": "r",
   "version": "4.5.1"
  }
 },
 "nbformat": 4,
 "nbformat_minor": 5
}
