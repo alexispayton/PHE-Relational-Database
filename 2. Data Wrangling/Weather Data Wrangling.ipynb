{
 "cells": [
  {
   "cell_type": "code",
   "execution_count": 25,
   "id": "4154d64d-dc36-48b3-9d54-208ccc838607",
   "metadata": {
    "scrolled": true
   },
   "outputs": [
    {
     "name": "stderr",
     "output_type": "stream",
     "text": [
      "To enable caching of data, set `options(tigris_use_cache = TRUE)`\n",
      "in your R script or .Rprofile.\n",
      "\n",
      "\u001b[1mRows: \u001b[22m\u001b[34m1048575\u001b[39m \u001b[1mColumns: \u001b[22m\u001b[34m4\u001b[39m\n",
      "\u001b[36m──\u001b[39m \u001b[1mColumn specification\u001b[22m \u001b[36m────────────────────────────────────────────────────────\u001b[39m\n",
      "\u001b[1mDelimiter:\u001b[22m \",\"\n",
      "\u001b[32mdbl\u001b[39m (4): DOY, x, y, Value\n",
      "\n",
      "\u001b[36mℹ\u001b[39m Use `spec()` to retrieve the full column specification for this data.\n",
      "\u001b[36mℹ\u001b[39m Specify the column types or set `show_col_types = FALSE` to quiet this message.\n",
      "\u001b[1mRows: \u001b[22m\u001b[34m1048575\u001b[39m \u001b[1mColumns: \u001b[22m\u001b[34m4\u001b[39m\n",
      "\u001b[36m──\u001b[39m \u001b[1mColumn specification\u001b[22m \u001b[36m────────────────────────────────────────────────────────\u001b[39m\n",
      "\u001b[1mDelimiter:\u001b[22m \",\"\n",
      "\u001b[32mdbl\u001b[39m (4): DOY, x, y, Value\n",
      "\n",
      "\u001b[36mℹ\u001b[39m Use `spec()` to retrieve the full column specification for this data.\n",
      "\u001b[36mℹ\u001b[39m Specify the column types or set `show_col_types = FALSE` to quiet this message.\n",
      "\u001b[1mRows: \u001b[22m\u001b[34m1048575\u001b[39m \u001b[1mColumns: \u001b[22m\u001b[34m4\u001b[39m\n",
      "\u001b[36m──\u001b[39m \u001b[1mColumn specification\u001b[22m \u001b[36m────────────────────────────────────────────────────────\u001b[39m\n",
      "\u001b[1mDelimiter:\u001b[22m \",\"\n",
      "\u001b[32mdbl\u001b[39m (4): DOY, x, y, Value\n",
      "\n",
      "\u001b[36mℹ\u001b[39m Use `spec()` to retrieve the full column specification for this data.\n",
      "\u001b[36mℹ\u001b[39m Specify the column types or set `show_col_types = FALSE` to quiet this message.\n",
      "\u001b[1mRows: \u001b[22m\u001b[34m1048575\u001b[39m \u001b[1mColumns: \u001b[22m\u001b[34m4\u001b[39m\n",
      "\u001b[36m──\u001b[39m \u001b[1mColumn specification\u001b[22m \u001b[36m────────────────────────────────────────────────────────\u001b[39m\n",
      "\u001b[1mDelimiter:\u001b[22m \",\"\n",
      "\u001b[32mdbl\u001b[39m (4): DOY, x, y, Value\n",
      "\n",
      "\u001b[36mℹ\u001b[39m Use `spec()` to retrieve the full column specification for this data.\n",
      "\u001b[36mℹ\u001b[39m Specify the column types or set `show_col_types = FALSE` to quiet this message.\n",
      "\u001b[1mRows: \u001b[22m\u001b[34m1048575\u001b[39m \u001b[1mColumns: \u001b[22m\u001b[34m4\u001b[39m\n",
      "\u001b[36m──\u001b[39m \u001b[1mColumn specification\u001b[22m \u001b[36m────────────────────────────────────────────────────────\u001b[39m\n",
      "\u001b[1mDelimiter:\u001b[22m \",\"\n",
      "\u001b[32mdbl\u001b[39m (4): DOY, x, y, Value\n",
      "\n",
      "\u001b[36mℹ\u001b[39m Use `spec()` to retrieve the full column specification for this data.\n",
      "\u001b[36mℹ\u001b[39m Specify the column types or set `show_col_types = FALSE` to quiet this message.\n",
      "\u001b[1mRows: \u001b[22m\u001b[34m1048575\u001b[39m \u001b[1mColumns: \u001b[22m\u001b[34m4\u001b[39m\n",
      "\u001b[36m──\u001b[39m \u001b[1mColumn specification\u001b[22m \u001b[36m────────────────────────────────────────────────────────\u001b[39m\n",
      "\u001b[1mDelimiter:\u001b[22m \",\"\n",
      "\u001b[32mdbl\u001b[39m (4): DOY, x, y, Value\n",
      "\n",
      "\u001b[36mℹ\u001b[39m Use `spec()` to retrieve the full column specification for this data.\n",
      "\u001b[36mℹ\u001b[39m Specify the column types or set `show_col_types = FALSE` to quiet this message.\n",
      "\u001b[1mRows: \u001b[22m\u001b[34m1048575\u001b[39m \u001b[1mColumns: \u001b[22m\u001b[34m4\u001b[39m\n",
      "\u001b[36m──\u001b[39m \u001b[1mColumn specification\u001b[22m \u001b[36m────────────────────────────────────────────────────────\u001b[39m\n",
      "\u001b[1mDelimiter:\u001b[22m \",\"\n",
      "\u001b[32mdbl\u001b[39m (4): DOY, x, y, Value\n",
      "\n",
      "\u001b[36mℹ\u001b[39m Use `spec()` to retrieve the full column specification for this data.\n",
      "\u001b[36mℹ\u001b[39m Specify the column types or set `show_col_types = FALSE` to quiet this message.\n",
      "\u001b[1mRows: \u001b[22m\u001b[34m1048575\u001b[39m \u001b[1mColumns: \u001b[22m\u001b[34m4\u001b[39m\n",
      "\u001b[36m──\u001b[39m \u001b[1mColumn specification\u001b[22m \u001b[36m────────────────────────────────────────────────────────\u001b[39m\n",
      "\u001b[1mDelimiter:\u001b[22m \",\"\n",
      "\u001b[32mdbl\u001b[39m (4): DOY, x, y, Value\n",
      "\n",
      "\u001b[36mℹ\u001b[39m Use `spec()` to retrieve the full column specification for this data.\n",
      "\u001b[36mℹ\u001b[39m Specify the column types or set `show_col_types = FALSE` to quiet this message.\n",
      "\u001b[1mRows: \u001b[22m\u001b[34m1048575\u001b[39m \u001b[1mColumns: \u001b[22m\u001b[34m4\u001b[39m\n",
      "\u001b[36m──\u001b[39m \u001b[1mColumn specification\u001b[22m \u001b[36m────────────────────────────────────────────────────────\u001b[39m\n",
      "\u001b[1mDelimiter:\u001b[22m \",\"\n",
      "\u001b[32mdbl\u001b[39m (4): DOY, x, y, Value\n",
      "\n",
      "\u001b[36mℹ\u001b[39m Use `spec()` to retrieve the full column specification for this data.\n",
      "\u001b[36mℹ\u001b[39m Specify the column types or set `show_col_types = FALSE` to quiet this message.\n",
      "\u001b[1mRows: \u001b[22m\u001b[34m1048575\u001b[39m \u001b[1mColumns: \u001b[22m\u001b[34m4\u001b[39m\n",
      "\u001b[36m──\u001b[39m \u001b[1mColumn specification\u001b[22m \u001b[36m────────────────────────────────────────────────────────\u001b[39m\n",
      "\u001b[1mDelimiter:\u001b[22m \",\"\n",
      "\u001b[32mdbl\u001b[39m (4): DOY, x, y, Value\n",
      "\n",
      "\u001b[36mℹ\u001b[39m Use `spec()` to retrieve the full column specification for this data.\n",
      "\u001b[36mℹ\u001b[39m Specify the column types or set `show_col_types = FALSE` to quiet this message.\n",
      "\u001b[1mRows: \u001b[22m\u001b[34m1048575\u001b[39m \u001b[1mColumns: \u001b[22m\u001b[34m4\u001b[39m\n",
      "\u001b[36m──\u001b[39m \u001b[1mColumn specification\u001b[22m \u001b[36m────────────────────────────────────────────────────────\u001b[39m\n",
      "\u001b[1mDelimiter:\u001b[22m \",\"\n",
      "\u001b[32mdbl\u001b[39m (4): DOY, x, y, Value\n",
      "\n",
      "\u001b[36mℹ\u001b[39m Use `spec()` to retrieve the full column specification for this data.\n",
      "\u001b[36mℹ\u001b[39m Specify the column types or set `show_col_types = FALSE` to quiet this message.\n",
      "\u001b[1mRows: \u001b[22m\u001b[34m1048575\u001b[39m \u001b[1mColumns: \u001b[22m\u001b[34m4\u001b[39m\n",
      "\u001b[36m──\u001b[39m \u001b[1mColumn specification\u001b[22m \u001b[36m────────────────────────────────────────────────────────\u001b[39m\n",
      "\u001b[1mDelimiter:\u001b[22m \",\"\n",
      "\u001b[32mdbl\u001b[39m (4): DOY, x, y, Value\n",
      "\n",
      "\u001b[36mℹ\u001b[39m Use `spec()` to retrieve the full column specification for this data.\n",
      "\u001b[36mℹ\u001b[39m Specify the column types or set `show_col_types = FALSE` to quiet this message.\n"
     ]
    }
   ],
   "source": [
    ".libPaths(R.home('/opt/homebrew/Caskroom/miniforge/base/lib/R/library'))\n",
    "Output = '/Users/alexis/Library/CloudStorage/OneDrive-UniversityofNorthCarolinaatChapelHill/PHE Database/2. Coding/2.4. Data Wrangling/Output'\n",
    "cur_date = '081125'\n",
    "\n",
    "library(readxl)\n",
    "library(tidyverse)\n",
    "library(reshape2)\n",
    "library(lubridate)\n",
    "library(oce)\n",
    "library(tigris)\n",
    "\n",
    "# reading in files\n",
    "ohio_tmax_2020_df = read_csv(\"Input/Ohio_Tmax_2020.csv\")\n",
    "ohio_tmax_2021_df = read_csv('Input/Ohio_Tmax_2021.csv')\n",
    "ohio_tmax_2022_df = read_csv('Input/Ohio_Tmax_2022.csv')\n",
    "ohio_PM_2020_df = read_csv('Input/Ohio_PM_2020.csv')\n",
    "ohio_PM_2021_df = read_csv('Input/Ohio_PM_2021.csv')\n",
    "ohio_PM_2022_df = read_csv('Input/Ohio_PM_2022.csv')\n",
    "ohio_tmin_2020_df = read_csv('Input/Ohio_Tmin_2020.csv')\n",
    "ohio_tmin_2021_df = read_csv('Input/Ohio_Tmin_2021.csv')\n",
    "ohio_tmin_2022_df = read_csv('Input/Ohio_Tmin_2022.csv')\n",
    "ohio_HI_2020_df = read_csv('Input/Ohio_HI_2020.csv')\n",
    "ohio_HI_2021_df = read_csv('Input/Ohio_HI_2021.csv')\n",
    "ohio_HI_2022_df = read_csv('Input/Ohio_HI_2022.csv')"
   ]
  },
  {
   "cell_type": "code",
   "execution_count": 26,
   "id": "af7530d4-0251-485e-8a78-1f25e49c11f0",
   "metadata": {},
   "outputs": [
    {
     "data": {
      "text/html": [
       "<table class=\"dataframe\">\n",
       "<caption>A tibble: 6 × 4</caption>\n",
       "<thead>\n",
       "\t<tr><th scope=col>DOY</th><th scope=col>x</th><th scope=col>y</th><th scope=col>Value</th></tr>\n",
       "\t<tr><th scope=col>&lt;dbl&gt;</th><th scope=col>&lt;dbl&gt;</th><th scope=col>&lt;dbl&gt;</th><th scope=col>&lt;dbl&gt;</th></tr>\n",
       "</thead>\n",
       "<tbody>\n",
       "\t<tr><td>50</td><td>2032326</td><td>4815818</td><td>76.1</td></tr>\n",
       "\t<tr><td>50</td><td>2033252</td><td>4815818</td><td>76.1</td></tr>\n",
       "\t<tr><td>50</td><td>2030473</td><td>4814892</td><td>75.9</td></tr>\n",
       "\t<tr><td>50</td><td>2031399</td><td>4814892</td><td>76.9</td></tr>\n",
       "\t<tr><td>50</td><td>2032326</td><td>4814892</td><td>76.5</td></tr>\n",
       "\t<tr><td>50</td><td>2033252</td><td>4814892</td><td>76.5</td></tr>\n",
       "</tbody>\n",
       "</table>\n"
      ],
      "text/latex": [
       "A tibble: 6 × 4\n",
       "\\begin{tabular}{llll}\n",
       " DOY & x & y & Value\\\\\n",
       " <dbl> & <dbl> & <dbl> & <dbl>\\\\\n",
       "\\hline\n",
       "\t 50 & 2032326 & 4815818 & 76.1\\\\\n",
       "\t 50 & 2033252 & 4815818 & 76.1\\\\\n",
       "\t 50 & 2030473 & 4814892 & 75.9\\\\\n",
       "\t 50 & 2031399 & 4814892 & 76.9\\\\\n",
       "\t 50 & 2032326 & 4814892 & 76.5\\\\\n",
       "\t 50 & 2033252 & 4814892 & 76.5\\\\\n",
       "\\end{tabular}\n"
      ],
      "text/markdown": [
       "\n",
       "A tibble: 6 × 4\n",
       "\n",
       "| DOY &lt;dbl&gt; | x &lt;dbl&gt; | y &lt;dbl&gt; | Value &lt;dbl&gt; |\n",
       "|---|---|---|---|\n",
       "| 50 | 2032326 | 4815818 | 76.1 |\n",
       "| 50 | 2033252 | 4815818 | 76.1 |\n",
       "| 50 | 2030473 | 4814892 | 75.9 |\n",
       "| 50 | 2031399 | 4814892 | 76.9 |\n",
       "| 50 | 2032326 | 4814892 | 76.5 |\n",
       "| 50 | 2033252 | 4814892 | 76.5 |\n",
       "\n"
      ],
      "text/plain": [
       "  DOY x       y       Value\n",
       "1 50  2032326 4815818 76.1 \n",
       "2 50  2033252 4815818 76.1 \n",
       "3 50  2030473 4814892 75.9 \n",
       "4 50  2031399 4814892 76.9 \n",
       "5 50  2032326 4814892 76.5 \n",
       "6 50  2033252 4814892 76.5 "
      ]
     },
     "metadata": {},
     "output_type": "display_data"
    }
   ],
   "source": [
    "head(ohio_tmax_2020_df)"
   ]
  },
  {
   "cell_type": "code",
   "execution_count": 44,
   "id": "dda27bac-9f9d-4fe3-8349-5578453f904f",
   "metadata": {},
   "outputs": [
    {
     "data": {
      "text/html": [
       "<table class=\"dataframe\">\n",
       "<caption>A tibble: 6 × 5</caption>\n",
       "<thead>\n",
       "\t<tr><th scope=col>x</th><th scope=col>y</th><th scope=col>Value</th><th scope=col>Date</th><th scope=col>VariableName</th></tr>\n",
       "\t<tr><th scope=col>&lt;dbl&gt;</th><th scope=col>&lt;dbl&gt;</th><th scope=col>&lt;dbl&gt;</th><th scope=col>&lt;chr&gt;</th><th scope=col>&lt;chr&gt;</th></tr>\n",
       "</thead>\n",
       "<tbody>\n",
       "\t<tr><td>2032326</td><td>4815818</td><td>76.1</td><td>02/20/2020</td><td>Maximum Temperature</td></tr>\n",
       "\t<tr><td>2033252</td><td>4815818</td><td>76.1</td><td>02/20/2020</td><td>Maximum Temperature</td></tr>\n",
       "\t<tr><td>2030473</td><td>4814892</td><td>75.9</td><td>02/20/2020</td><td>Maximum Temperature</td></tr>\n",
       "\t<tr><td>2031399</td><td>4814892</td><td>76.9</td><td>02/20/2020</td><td>Maximum Temperature</td></tr>\n",
       "\t<tr><td>2032326</td><td>4814892</td><td>76.5</td><td>02/20/2020</td><td>Maximum Temperature</td></tr>\n",
       "\t<tr><td>2033252</td><td>4814892</td><td>76.5</td><td>02/20/2020</td><td>Maximum Temperature</td></tr>\n",
       "</tbody>\n",
       "</table>\n"
      ],
      "text/latex": [
       "A tibble: 6 × 5\n",
       "\\begin{tabular}{lllll}\n",
       " x & y & Value & Date & VariableName\\\\\n",
       " <dbl> & <dbl> & <dbl> & <chr> & <chr>\\\\\n",
       "\\hline\n",
       "\t 2032326 & 4815818 & 76.1 & 02/20/2020 & Maximum Temperature\\\\\n",
       "\t 2033252 & 4815818 & 76.1 & 02/20/2020 & Maximum Temperature\\\\\n",
       "\t 2030473 & 4814892 & 75.9 & 02/20/2020 & Maximum Temperature\\\\\n",
       "\t 2031399 & 4814892 & 76.9 & 02/20/2020 & Maximum Temperature\\\\\n",
       "\t 2032326 & 4814892 & 76.5 & 02/20/2020 & Maximum Temperature\\\\\n",
       "\t 2033252 & 4814892 & 76.5 & 02/20/2020 & Maximum Temperature\\\\\n",
       "\\end{tabular}\n"
      ],
      "text/markdown": [
       "\n",
       "A tibble: 6 × 5\n",
       "\n",
       "| x &lt;dbl&gt; | y &lt;dbl&gt; | Value &lt;dbl&gt; | Date &lt;chr&gt; | VariableName &lt;chr&gt; |\n",
       "|---|---|---|---|---|\n",
       "| 2032326 | 4815818 | 76.1 | 02/20/2020 | Maximum Temperature |\n",
       "| 2033252 | 4815818 | 76.1 | 02/20/2020 | Maximum Temperature |\n",
       "| 2030473 | 4814892 | 75.9 | 02/20/2020 | Maximum Temperature |\n",
       "| 2031399 | 4814892 | 76.9 | 02/20/2020 | Maximum Temperature |\n",
       "| 2032326 | 4814892 | 76.5 | 02/20/2020 | Maximum Temperature |\n",
       "| 2033252 | 4814892 | 76.5 | 02/20/2020 | Maximum Temperature |\n",
       "\n"
      ],
      "text/plain": [
       "  x       y       Value Date       VariableName       \n",
       "1 2032326 4815818 76.1  02/20/2020 Maximum Temperature\n",
       "2 2033252 4815818 76.1  02/20/2020 Maximum Temperature\n",
       "3 2030473 4814892 75.9  02/20/2020 Maximum Temperature\n",
       "4 2031399 4814892 76.9  02/20/2020 Maximum Temperature\n",
       "5 2032326 4814892 76.5  02/20/2020 Maximum Temperature\n",
       "6 2033252 4814892 76.5  02/20/2020 Maximum Temperature"
      ]
     },
     "metadata": {},
     "output_type": "display_data"
    }
   ],
   "source": [
    "convert_date = function(df, collection_year, variable){\n",
    "    # converting the day of the year into a date with the month, day, and year\n",
    "    \n",
    "    new_df = df %>%\n",
    "        mutate(Month = month(as_date(DOY)), Day = mday(as_date(DOY)), Year = collection_year,\n",
    "           Date = format(make_date(month = Month, day = Day, year = Year), format = \"%m/%d/%Y\"),\n",
    "           # going ahead and adding in the variable's name\n",
    "           VariableName = variable) %>%\n",
    "        select(-c('DOY', \"Month\", \"Day\", \"Year\")) \n",
    "\n",
    "    return(new_df)\n",
    "    }\n",
    "\n",
    "# calling fn\n",
    "converted_tmax_2020_df = convert_date(ohio_tmax_2020_df, 2020, 'Maximum Temperature')\n",
    "converted_tmax_2021_df = convert_date(ohio_tmax_2021_df, 2021, 'Maximum Temperature')\n",
    "converted_tmax_2022_df = convert_date(ohio_tmax_2022_df, 2022, 'Maximum Temperature')\n",
    "converted_HI_2020_df = convert_date(ohio_HI_2020_df, 2020, 'Heat Index')\n",
    "converted_HI_2021_df = convert_date(ohio_HI_2021_df, 2021, 'Heat Index')\n",
    "converted_HI_2022_df = convert_date(ohio_HI_2022_df, 2022, 'Heat Index')\n",
    "converted_tmin_2020_df = convert_date(ohio_tmin_2020_df, 2020, 'Minimum Temperature')\n",
    "converted_tmin_2021_df = convert_date(ohio_tmin_2021_df, 2021, 'Minimum Temperature')\n",
    "converted_tmin_2022_df = convert_date(ohio_tmin_2022_df, 2022, 'Minimum Temperature')\n",
    "# moving around these col names here to combine dfs below\n",
    "converted_PM_2020_df = convert_date(ohio_PM_2020_df, 2020, 'PM2.5') %>%\n",
    "    rename(Latitude = y, Longitude = x) %>%\n",
    "    relocate(c(\"Latitude\", \"Longitude\"), .after = VariableName)\n",
    "converted_PM_2021_df = convert_date(ohio_PM_2021_df, 2021, 'PM2.5') %>%\n",
    "    rename(Latitude = y, Longitude = x) %>%\n",
    "    relocate(c(\"Latitude\", \"Longitude\"), .after = VariableName)\n",
    "converted_PM_2022_df = convert_date(ohio_PM_2022_df, 2022, 'PM2.5') %>%\n",
    "    rename(Latitude = y, Longitude = x) %>%\n",
    "    relocate(c(\"Latitude\", \"Longitude\"), .after = VariableName)\n",
    "\n",
    "head(converted_tmax_2020_df)"
   ]
  },
  {
   "cell_type": "code",
   "execution_count": 45,
   "id": "3817a208-16c6-4efe-ac28-58da2a34e331",
   "metadata": {},
   "outputs": [
    {
     "data": {
      "text/html": [
       "<table class=\"dataframe\">\n",
       "<caption>A tibble: 6 × 5</caption>\n",
       "<thead>\n",
       "\t<tr><th scope=col>Value</th><th scope=col>Date</th><th scope=col>VariableName</th><th scope=col>Latitude</th><th scope=col>Longitude</th></tr>\n",
       "\t<tr><th scope=col>&lt;dbl&gt;</th><th scope=col>&lt;chr&gt;</th><th scope=col>&lt;chr&gt;</th><th scope=col>&lt;dbl&gt;</th><th scope=col>&lt;dbl&gt;</th></tr>\n",
       "</thead>\n",
       "<tbody>\n",
       "\t<tr><td>76.1</td><td>02/20/2020</td><td>Maximum Temperature</td><td>-80.53294</td><td>41.98001</td></tr>\n",
       "\t<tr><td>76.1</td><td>02/20/2020</td><td>Maximum Temperature</td><td>-80.52234</td><td>41.97824</td></tr>\n",
       "\t<tr><td>75.9</td><td>02/20/2020</td><td>Maximum Temperature</td><td>-80.55653</td><td>41.97562</td></tr>\n",
       "\t<tr><td>76.9</td><td>02/20/2020</td><td>Maximum Temperature</td><td>-80.54592</td><td>41.97386</td></tr>\n",
       "\t<tr><td>76.5</td><td>02/20/2020</td><td>Maximum Temperature</td><td>-80.53531</td><td>41.97209</td></tr>\n",
       "\t<tr><td>76.5</td><td>02/20/2020</td><td>Maximum Temperature</td><td>-80.52471</td><td>41.97032</td></tr>\n",
       "</tbody>\n",
       "</table>\n"
      ],
      "text/latex": [
       "A tibble: 6 × 5\n",
       "\\begin{tabular}{lllll}\n",
       " Value & Date & VariableName & Latitude & Longitude\\\\\n",
       " <dbl> & <chr> & <chr> & <dbl> & <dbl>\\\\\n",
       "\\hline\n",
       "\t 76.1 & 02/20/2020 & Maximum Temperature & -80.53294 & 41.98001\\\\\n",
       "\t 76.1 & 02/20/2020 & Maximum Temperature & -80.52234 & 41.97824\\\\\n",
       "\t 75.9 & 02/20/2020 & Maximum Temperature & -80.55653 & 41.97562\\\\\n",
       "\t 76.9 & 02/20/2020 & Maximum Temperature & -80.54592 & 41.97386\\\\\n",
       "\t 76.5 & 02/20/2020 & Maximum Temperature & -80.53531 & 41.97209\\\\\n",
       "\t 76.5 & 02/20/2020 & Maximum Temperature & -80.52471 & 41.97032\\\\\n",
       "\\end{tabular}\n"
      ],
      "text/markdown": [
       "\n",
       "A tibble: 6 × 5\n",
       "\n",
       "| Value &lt;dbl&gt; | Date &lt;chr&gt; | VariableName &lt;chr&gt; | Latitude &lt;dbl&gt; | Longitude &lt;dbl&gt; |\n",
       "|---|---|---|---|---|\n",
       "| 76.1 | 02/20/2020 | Maximum Temperature | -80.53294 | 41.98001 |\n",
       "| 76.1 | 02/20/2020 | Maximum Temperature | -80.52234 | 41.97824 |\n",
       "| 75.9 | 02/20/2020 | Maximum Temperature | -80.55653 | 41.97562 |\n",
       "| 76.9 | 02/20/2020 | Maximum Temperature | -80.54592 | 41.97386 |\n",
       "| 76.5 | 02/20/2020 | Maximum Temperature | -80.53531 | 41.97209 |\n",
       "| 76.5 | 02/20/2020 | Maximum Temperature | -80.52471 | 41.97032 |\n",
       "\n"
      ],
      "text/plain": [
       "  Value Date       VariableName        Latitude  Longitude\n",
       "1 76.1  02/20/2020 Maximum Temperature -80.53294 41.98001 \n",
       "2 76.1  02/20/2020 Maximum Temperature -80.52234 41.97824 \n",
       "3 75.9  02/20/2020 Maximum Temperature -80.55653 41.97562 \n",
       "4 76.9  02/20/2020 Maximum Temperature -80.54592 41.97386 \n",
       "5 76.5  02/20/2020 Maximum Temperature -80.53531 41.97209 \n",
       "6 76.5  02/20/2020 Maximum Temperature -80.52471 41.97032 "
      ]
     },
     "metadata": {},
     "output_type": "display_data"
    }
   ],
   "source": [
    "convert_coordinates = function(df){\n",
    "    # converting utm coordinates to latitude and longitude\n",
    "\n",
    "    coordinates_df = df %>%\n",
    "        # zone 14 is for Ohio\n",
    "        mutate(Latitude = utm2lonlat(easting = x, northing = y, zone = 14)[[1]],\n",
    "              Longitude = utm2lonlat(easting = x, northing = y, zone = 14)[[2]]) %>%\n",
    "        select(-c('x', 'y')) \n",
    "    \n",
    "    return(coordinates_df)\n",
    "}\n",
    "\n",
    "# calling fn\n",
    "final_tmax_2020_df = convert_coordinates(converted_tmax_2020_df)\n",
    "final_tmax_2021_df = convert_coordinates(converted_tmax_2021_df)\n",
    "final_tmax_2022_df = convert_coordinates(converted_tmax_2022_df)\n",
    "final_HI_2020_df = convert_coordinates(converted_HI_2020_df)\n",
    "final_HI_2021_df = convert_coordinates(converted_HI_2021_df)\n",
    "final_HI_2022_df = convert_coordinates(converted_HI_2022_df)\n",
    "final_tmin_2020_df = convert_coordinates(converted_tmin_2020_df)\n",
    "final_tmin_2021_df = convert_coordinates(converted_tmin_2021_df)\n",
    "final_tmin_2022_df = convert_coordinates(converted_tmin_2022_df)\n",
    "\n",
    "head(final_tmax_2020_df)"
   ]
  },
  {
   "cell_type": "markdown",
   "id": "6b5a4314-929a-4eec-b72e-5ec6edc662b3",
   "metadata": {},
   "source": [
    "Now breaking these data up into the dataframes that they will be stored in for the database. We'll have separate dataframes for each year. "
   ]
  },
  {
   "cell_type": "code",
   "execution_count": 46,
   "id": "d2b6fa58-d8be-460a-b90b-f3af5833ae63",
   "metadata": {},
   "outputs": [],
   "source": [
    "twenty20_df = rbind(converted_PM_2020_df, final_HI_2020_df, final_tmax_2020_df, final_tmin_2020_df)\n",
    "twenty21_df = rbind(converted_PM_2021_df, final_HI_2021_df, final_tmax_2021_df, final_tmin_2021_df)\n",
    "twenty22_df = rbind(converted_PM_2022_df, final_HI_2022_df, final_tmax_2022_df, final_tmin_2022_df)"
   ]
  },
  {
   "cell_type": "code",
   "execution_count": 47,
   "id": "09b9945d-e8b0-40ac-9be8-7d67daa8ca6f",
   "metadata": {},
   "outputs": [],
   "source": [
    "# adding in georaphic id and variable ids\n",
    "split_dfs = function(df){\n",
    "    new_df = df %>%\n",
    "        mutate(Num = 1:n(), GeographyID = paste0('GEO', Num), ValueID = paste0('Val', Num),\n",
    "              VariableID = ifelse(VariableName == \"PM2.5\", 'PM',\n",
    "                                      ifelse(VariableName == \"Maximum Temperature\",'MaxT',\n",
    "                                          ifelse(VariableName == \"Minimum Temperature\", 'MinT',\n",
    "                                              ifelse(VariableName == \"Heat Index\", 'HI', NA))))) %>%\n",
    "        select(-Num)\n",
    "\n",
    "    # creating the geography df\n",
    "    geo_df = unique(new_df[,c(6,4,5)])\n",
    "\n",
    "    # creating the variable df\n",
    "    var_df = unique(new_df[,c(8,3)])\n",
    "\n",
    "    # value df\n",
    "    value_df = new_df[,c(7,8,1)]\n",
    "\n",
    "    # health data df\n",
    "    health_df = new_df[,c(2,7)]\n",
    "\n",
    "    return(list(geo_df, var_df, value_df, health_df))\n",
    "}\n",
    "\n",
    "# calling fn\n",
    "split_twenty20_dfs = split_dfs(twenty20_df)\n",
    "split_twenty21_dfs = split_dfs(twenty21_df)\n",
    "split_twenty22_dfs = split_dfs(twenty22_df)"
   ]
  },
  {
   "cell_type": "code",
   "execution_count": 48,
   "id": "b88d9845-c4e6-44b4-a543-843fb9271589",
   "metadata": {},
   "outputs": [
    {
     "data": {
      "text/html": [
       "<table class=\"dataframe\">\n",
       "<caption>A tibble: 6 × 3</caption>\n",
       "<thead>\n",
       "\t<tr><th scope=col>GeographyID</th><th scope=col>Latitude</th><th scope=col>Longitude</th></tr>\n",
       "\t<tr><th scope=col>&lt;chr&gt;</th><th scope=col>&lt;dbl&gt;</th><th scope=col>&lt;dbl&gt;</th></tr>\n",
       "</thead>\n",
       "<tbody>\n",
       "\t<tr><td>GEO1</td><td>41.9661</td><td>-80.585</td></tr>\n",
       "\t<tr><td>GEO2</td><td>41.9661</td><td>-80.555</td></tr>\n",
       "\t<tr><td>GEO3</td><td>41.9661</td><td>-80.525</td></tr>\n",
       "\t<tr><td>GEO4</td><td>41.9361</td><td>-80.675</td></tr>\n",
       "\t<tr><td>GEO5</td><td>41.9361</td><td>-80.645</td></tr>\n",
       "\t<tr><td>GEO6</td><td>41.9361</td><td>-80.615</td></tr>\n",
       "</tbody>\n",
       "</table>\n"
      ],
      "text/latex": [
       "A tibble: 6 × 3\n",
       "\\begin{tabular}{lll}\n",
       " GeographyID & Latitude & Longitude\\\\\n",
       " <chr> & <dbl> & <dbl>\\\\\n",
       "\\hline\n",
       "\t GEO1 & 41.9661 & -80.585\\\\\n",
       "\t GEO2 & 41.9661 & -80.555\\\\\n",
       "\t GEO3 & 41.9661 & -80.525\\\\\n",
       "\t GEO4 & 41.9361 & -80.675\\\\\n",
       "\t GEO5 & 41.9361 & -80.645\\\\\n",
       "\t GEO6 & 41.9361 & -80.615\\\\\n",
       "\\end{tabular}\n"
      ],
      "text/markdown": [
       "\n",
       "A tibble: 6 × 3\n",
       "\n",
       "| GeographyID &lt;chr&gt; | Latitude &lt;dbl&gt; | Longitude &lt;dbl&gt; |\n",
       "|---|---|---|\n",
       "| GEO1 | 41.9661 | -80.585 |\n",
       "| GEO2 | 41.9661 | -80.555 |\n",
       "| GEO3 | 41.9661 | -80.525 |\n",
       "| GEO4 | 41.9361 | -80.675 |\n",
       "| GEO5 | 41.9361 | -80.645 |\n",
       "| GEO6 | 41.9361 | -80.615 |\n",
       "\n"
      ],
      "text/plain": [
       "  GeographyID Latitude Longitude\n",
       "1 GEO1        41.9661  -80.585  \n",
       "2 GEO2        41.9661  -80.555  \n",
       "3 GEO3        41.9661  -80.525  \n",
       "4 GEO4        41.9361  -80.675  \n",
       "5 GEO5        41.9361  -80.645  \n",
       "6 GEO6        41.9361  -80.615  "
      ]
     },
     "metadata": {},
     "output_type": "display_data"
    },
    {
     "data": {
      "text/html": [
       "<table class=\"dataframe\">\n",
       "<caption>A tibble: 4 × 2</caption>\n",
       "<thead>\n",
       "\t<tr><th scope=col>VariableID</th><th scope=col>VariableName</th></tr>\n",
       "\t<tr><th scope=col>&lt;chr&gt;</th><th scope=col>&lt;chr&gt;</th></tr>\n",
       "</thead>\n",
       "<tbody>\n",
       "\t<tr><td>PM  </td><td>PM2.5              </td></tr>\n",
       "\t<tr><td>HI  </td><td>Heat Index         </td></tr>\n",
       "\t<tr><td>MaxT</td><td>Maximum Temperature</td></tr>\n",
       "\t<tr><td>MinT</td><td>Minimum Temperature</td></tr>\n",
       "</tbody>\n",
       "</table>\n"
      ],
      "text/latex": [
       "A tibble: 4 × 2\n",
       "\\begin{tabular}{ll}\n",
       " VariableID & VariableName\\\\\n",
       " <chr> & <chr>\\\\\n",
       "\\hline\n",
       "\t PM   & PM2.5              \\\\\n",
       "\t HI   & Heat Index         \\\\\n",
       "\t MaxT & Maximum Temperature\\\\\n",
       "\t MinT & Minimum Temperature\\\\\n",
       "\\end{tabular}\n"
      ],
      "text/markdown": [
       "\n",
       "A tibble: 4 × 2\n",
       "\n",
       "| VariableID &lt;chr&gt; | VariableName &lt;chr&gt; |\n",
       "|---|---|\n",
       "| PM   | PM2.5               |\n",
       "| HI   | Heat Index          |\n",
       "| MaxT | Maximum Temperature |\n",
       "| MinT | Minimum Temperature |\n",
       "\n"
      ],
      "text/plain": [
       "  VariableID VariableName       \n",
       "1 PM         PM2.5              \n",
       "2 HI         Heat Index         \n",
       "3 MaxT       Maximum Temperature\n",
       "4 MinT       Minimum Temperature"
      ]
     },
     "metadata": {},
     "output_type": "display_data"
    },
    {
     "data": {
      "text/html": [
       "<table class=\"dataframe\">\n",
       "<caption>A tibble: 6 × 3</caption>\n",
       "<thead>\n",
       "\t<tr><th scope=col>ValueID</th><th scope=col>VariableID</th><th scope=col>Value</th></tr>\n",
       "\t<tr><th scope=col>&lt;chr&gt;</th><th scope=col>&lt;chr&gt;</th><th scope=col>&lt;dbl&gt;</th></tr>\n",
       "</thead>\n",
       "<tbody>\n",
       "\t<tr><td>Val1</td><td>PM</td><td>12.0</td></tr>\n",
       "\t<tr><td>Val2</td><td>PM</td><td>12.0</td></tr>\n",
       "\t<tr><td>Val3</td><td>PM</td><td>11.9</td></tr>\n",
       "\t<tr><td>Val4</td><td>PM</td><td>12.2</td></tr>\n",
       "\t<tr><td>Val5</td><td>PM</td><td>12.2</td></tr>\n",
       "\t<tr><td>Val6</td><td>PM</td><td>12.1</td></tr>\n",
       "</tbody>\n",
       "</table>\n"
      ],
      "text/latex": [
       "A tibble: 6 × 3\n",
       "\\begin{tabular}{lll}\n",
       " ValueID & VariableID & Value\\\\\n",
       " <chr> & <chr> & <dbl>\\\\\n",
       "\\hline\n",
       "\t Val1 & PM & 12.0\\\\\n",
       "\t Val2 & PM & 12.0\\\\\n",
       "\t Val3 & PM & 11.9\\\\\n",
       "\t Val4 & PM & 12.2\\\\\n",
       "\t Val5 & PM & 12.2\\\\\n",
       "\t Val6 & PM & 12.1\\\\\n",
       "\\end{tabular}\n"
      ],
      "text/markdown": [
       "\n",
       "A tibble: 6 × 3\n",
       "\n",
       "| ValueID &lt;chr&gt; | VariableID &lt;chr&gt; | Value &lt;dbl&gt; |\n",
       "|---|---|---|\n",
       "| Val1 | PM | 12.0 |\n",
       "| Val2 | PM | 12.0 |\n",
       "| Val3 | PM | 11.9 |\n",
       "| Val4 | PM | 12.2 |\n",
       "| Val5 | PM | 12.2 |\n",
       "| Val6 | PM | 12.1 |\n",
       "\n"
      ],
      "text/plain": [
       "  ValueID VariableID Value\n",
       "1 Val1    PM         12.0 \n",
       "2 Val2    PM         12.0 \n",
       "3 Val3    PM         11.9 \n",
       "4 Val4    PM         12.2 \n",
       "5 Val5    PM         12.2 \n",
       "6 Val6    PM         12.1 "
      ]
     },
     "metadata": {},
     "output_type": "display_data"
    },
    {
     "data": {
      "text/html": [
       "<table class=\"dataframe\">\n",
       "<caption>A tibble: 6 × 2</caption>\n",
       "<thead>\n",
       "\t<tr><th scope=col>Date</th><th scope=col>ValueID</th></tr>\n",
       "\t<tr><th scope=col>&lt;chr&gt;</th><th scope=col>&lt;chr&gt;</th></tr>\n",
       "</thead>\n",
       "<tbody>\n",
       "\t<tr><td>07/08/2020</td><td>Val1</td></tr>\n",
       "\t<tr><td>07/08/2020</td><td>Val2</td></tr>\n",
       "\t<tr><td>07/08/2020</td><td>Val3</td></tr>\n",
       "\t<tr><td>07/08/2020</td><td>Val4</td></tr>\n",
       "\t<tr><td>07/08/2020</td><td>Val5</td></tr>\n",
       "\t<tr><td>07/08/2020</td><td>Val6</td></tr>\n",
       "</tbody>\n",
       "</table>\n"
      ],
      "text/latex": [
       "A tibble: 6 × 2\n",
       "\\begin{tabular}{ll}\n",
       " Date & ValueID\\\\\n",
       " <chr> & <chr>\\\\\n",
       "\\hline\n",
       "\t 07/08/2020 & Val1\\\\\n",
       "\t 07/08/2020 & Val2\\\\\n",
       "\t 07/08/2020 & Val3\\\\\n",
       "\t 07/08/2020 & Val4\\\\\n",
       "\t 07/08/2020 & Val5\\\\\n",
       "\t 07/08/2020 & Val6\\\\\n",
       "\\end{tabular}\n"
      ],
      "text/markdown": [
       "\n",
       "A tibble: 6 × 2\n",
       "\n",
       "| Date &lt;chr&gt; | ValueID &lt;chr&gt; |\n",
       "|---|---|\n",
       "| 07/08/2020 | Val1 |\n",
       "| 07/08/2020 | Val2 |\n",
       "| 07/08/2020 | Val3 |\n",
       "| 07/08/2020 | Val4 |\n",
       "| 07/08/2020 | Val5 |\n",
       "| 07/08/2020 | Val6 |\n",
       "\n"
      ],
      "text/plain": [
       "  Date       ValueID\n",
       "1 07/08/2020 Val1   \n",
       "2 07/08/2020 Val2   \n",
       "3 07/08/2020 Val3   \n",
       "4 07/08/2020 Val4   \n",
       "5 07/08/2020 Val5   \n",
       "6 07/08/2020 Val6   "
      ]
     },
     "metadata": {},
     "output_type": "display_data"
    }
   ],
   "source": [
    "# viewing\n",
    "head(split_twenty20_dfs[[1]])\n",
    "head(split_twenty20_dfs[[2]])\n",
    "head(split_twenty20_dfs[[3]])\n",
    "head(split_twenty20_dfs[[4]])"
   ]
  },
  {
   "cell_type": "markdown",
   "id": "ca9130e7-4fc6-4275-b839-905988166b39",
   "metadata": {},
   "source": [
    "Adding in additional geography data like census tract, county name etc. to the geography dataframes."
   ]
  },
  {
   "cell_type": "code",
   "execution_count": 60,
   "id": "62ec942c-c488-454f-95a9-6e356f769796",
   "metadata": {},
   "outputs": [
    {
     "data": {
      "text/html": [
       "<table class=\"dataframe\">\n",
       "<caption>A data.frame: 6 × 5</caption>\n",
       "<thead>\n",
       "\t<tr><th></th><th scope=col>COUNTYFP</th><th scope=col>FIPS</th><th scope=col>CensusTract</th><th scope=col>Longitude</th><th scope=col>Latitude</th></tr>\n",
       "\t<tr><th></th><th scope=col>&lt;chr&gt;</th><th scope=col>&lt;chr&gt;</th><th scope=col>&lt;chr&gt;</th><th scope=col>&lt;dbl&gt;</th><th scope=col>&lt;dbl&gt;</th></tr>\n",
       "</thead>\n",
       "<tbody>\n",
       "\t<tr><th scope=row>1</th><td>153</td><td>39153533102</td><td>5331.02</td><td>41.244</td><td>-81.4167</td></tr>\n",
       "\t<tr><th scope=row>2</th><td>153</td><td>39153533200</td><td>5332   </td><td>41.218</td><td>-81.4164</td></tr>\n",
       "\t<tr><th scope=row>3</th><td>029</td><td>39029951600</td><td>9516   </td><td>40.728</td><td>-80.5860</td></tr>\n",
       "\t<tr><th scope=row>4</th><td>093</td><td>39093070600</td><td>706    </td><td>41.379</td><td>-82.0924</td></tr>\n",
       "\t<tr><th scope=row>5</th><td>093</td><td>39093097100</td><td>971    </td><td>41.122</td><td>-82.2636</td></tr>\n",
       "\t<tr><th scope=row>6</th><td>093</td><td>39093010200</td><td>102    </td><td>41.507</td><td>-82.0124</td></tr>\n",
       "</tbody>\n",
       "</table>\n"
      ],
      "text/latex": [
       "A data.frame: 6 × 5\n",
       "\\begin{tabular}{r|lllll}\n",
       "  & COUNTYFP & FIPS & CensusTract & Longitude & Latitude\\\\\n",
       "  & <chr> & <chr> & <chr> & <dbl> & <dbl>\\\\\n",
       "\\hline\n",
       "\t1 & 153 & 39153533102 & 5331.02 & 41.244 & -81.4167\\\\\n",
       "\t2 & 153 & 39153533200 & 5332    & 41.218 & -81.4164\\\\\n",
       "\t3 & 029 & 39029951600 & 9516    & 40.728 & -80.5860\\\\\n",
       "\t4 & 093 & 39093070600 & 706     & 41.379 & -82.0924\\\\\n",
       "\t5 & 093 & 39093097100 & 971     & 41.122 & -82.2636\\\\\n",
       "\t6 & 093 & 39093010200 & 102     & 41.507 & -82.0124\\\\\n",
       "\\end{tabular}\n"
      ],
      "text/markdown": [
       "\n",
       "A data.frame: 6 × 5\n",
       "\n",
       "| <!--/--> | COUNTYFP &lt;chr&gt; | FIPS &lt;chr&gt; | CensusTract &lt;chr&gt; | Longitude &lt;dbl&gt; | Latitude &lt;dbl&gt; |\n",
       "|---|---|---|---|---|---|\n",
       "| 1 | 153 | 39153533102 | 5331.02 | 41.244 | -81.4167 |\n",
       "| 2 | 153 | 39153533200 | 5332    | 41.218 | -81.4164 |\n",
       "| 3 | 029 | 39029951600 | 9516    | 40.728 | -80.5860 |\n",
       "| 4 | 093 | 39093070600 | 706     | 41.379 | -82.0924 |\n",
       "| 5 | 093 | 39093097100 | 971     | 41.122 | -82.2636 |\n",
       "| 6 | 093 | 39093010200 | 102     | 41.507 | -82.0124 |\n",
       "\n"
      ],
      "text/plain": [
       "  COUNTYFP FIPS        CensusTract Longitude Latitude\n",
       "1 153      39153533102 5331.02     41.244    -81.4167\n",
       "2 153      39153533200 5332        41.218    -81.4164\n",
       "3 029      39029951600 9516        40.728    -80.5860\n",
       "4 093      39093070600 706         41.379    -82.0924\n",
       "5 093      39093097100 971         41.122    -82.2636\n",
       "6 093      39093010200 102         41.507    -82.0124"
      ]
     },
     "metadata": {},
     "output_type": "display_data"
    }
   ],
   "source": [
    "# download shapefile from the tigris (census package)\n",
    "ohio_county_shapefile = data.frame(tracts(state = \"Ohio\", year = 2020)[,c(2,4,5,11,12)]) %>%\n",
    "    rename(FIPS = GEOID, CensusTract = NAME, Latitude = INTPTLON, Longitude = INTPTLAT) %>%\n",
    "    select(-geometry) %>%\n",
    "    mutate(Latitude = round(as.numeric(Latitude), 4), Longitude = round(as.numeric(Longitude), 3))\n",
    "\n",
    "head(ohio_county_shapefile)"
   ]
  },
  {
   "cell_type": "code",
   "execution_count": 62,
   "id": "09bd90de-6bce-4b95-a22a-2897fa7ddbff",
   "metadata": {},
   "outputs": [
    {
     "name": "stderr",
     "output_type": "stream",
     "text": [
      "\u001b[1m\u001b[22mJoining with `by = join_by(Latitude, Longitude)`\n"
     ]
    },
    {
     "data": {
      "text/html": [
       "<table class=\"dataframe\">\n",
       "<caption>A tibble: 6 × 6</caption>\n",
       "<thead>\n",
       "\t<tr><th scope=col>GeographyID</th><th scope=col>Latitude</th><th scope=col>Longitude</th><th scope=col>COUNTYFP</th><th scope=col>FIPS</th><th scope=col>CensusTract</th></tr>\n",
       "\t<tr><th scope=col>&lt;chr&gt;</th><th scope=col>&lt;dbl&gt;</th><th scope=col>&lt;dbl&gt;</th><th scope=col>&lt;chr&gt;</th><th scope=col>&lt;chr&gt;</th><th scope=col>&lt;chr&gt;</th></tr>\n",
       "</thead>\n",
       "<tbody>\n",
       "\t<tr><td>GEO1</td><td>41.9661</td><td>-80.585</td><td>NA</td><td>NA</td><td>NA</td></tr>\n",
       "\t<tr><td>GEO2</td><td>41.9661</td><td>-80.555</td><td>NA</td><td>NA</td><td>NA</td></tr>\n",
       "\t<tr><td>GEO3</td><td>41.9661</td><td>-80.525</td><td>NA</td><td>NA</td><td>NA</td></tr>\n",
       "\t<tr><td>GEO4</td><td>41.9361</td><td>-80.675</td><td>NA</td><td>NA</td><td>NA</td></tr>\n",
       "\t<tr><td>GEO5</td><td>41.9361</td><td>-80.645</td><td>NA</td><td>NA</td><td>NA</td></tr>\n",
       "\t<tr><td>GEO6</td><td>41.9361</td><td>-80.615</td><td>NA</td><td>NA</td><td>NA</td></tr>\n",
       "</tbody>\n",
       "</table>\n"
      ],
      "text/latex": [
       "A tibble: 6 × 6\n",
       "\\begin{tabular}{llllll}\n",
       " GeographyID & Latitude & Longitude & COUNTYFP & FIPS & CensusTract\\\\\n",
       " <chr> & <dbl> & <dbl> & <chr> & <chr> & <chr>\\\\\n",
       "\\hline\n",
       "\t GEO1 & 41.9661 & -80.585 & NA & NA & NA\\\\\n",
       "\t GEO2 & 41.9661 & -80.555 & NA & NA & NA\\\\\n",
       "\t GEO3 & 41.9661 & -80.525 & NA & NA & NA\\\\\n",
       "\t GEO4 & 41.9361 & -80.675 & NA & NA & NA\\\\\n",
       "\t GEO5 & 41.9361 & -80.645 & NA & NA & NA\\\\\n",
       "\t GEO6 & 41.9361 & -80.615 & NA & NA & NA\\\\\n",
       "\\end{tabular}\n"
      ],
      "text/markdown": [
       "\n",
       "A tibble: 6 × 6\n",
       "\n",
       "| GeographyID &lt;chr&gt; | Latitude &lt;dbl&gt; | Longitude &lt;dbl&gt; | COUNTYFP &lt;chr&gt; | FIPS &lt;chr&gt; | CensusTract &lt;chr&gt; |\n",
       "|---|---|---|---|---|---|\n",
       "| GEO1 | 41.9661 | -80.585 | NA | NA | NA |\n",
       "| GEO2 | 41.9661 | -80.555 | NA | NA | NA |\n",
       "| GEO3 | 41.9661 | -80.525 | NA | NA | NA |\n",
       "| GEO4 | 41.9361 | -80.675 | NA | NA | NA |\n",
       "| GEO5 | 41.9361 | -80.645 | NA | NA | NA |\n",
       "| GEO6 | 41.9361 | -80.615 | NA | NA | NA |\n",
       "\n"
      ],
      "text/plain": [
       "  GeographyID Latitude Longitude COUNTYFP FIPS CensusTract\n",
       "1 GEO1        41.9661  -80.585   NA       NA   NA         \n",
       "2 GEO2        41.9661  -80.555   NA       NA   NA         \n",
       "3 GEO3        41.9661  -80.525   NA       NA   NA         \n",
       "4 GEO4        41.9361  -80.675   NA       NA   NA         \n",
       "5 GEO5        41.9361  -80.645   NA       NA   NA         \n",
       "6 GEO6        41.9361  -80.615   NA       NA   NA         "
      ]
     },
     "metadata": {},
     "output_type": "display_data"
    }
   ],
   "source": [
    "geography_2020_df = split_twenty20_dfs[[1]]\n",
    "\n",
    "left_join(head(geography_2020_df), ohio_county_shapefile)"
   ]
  },
  {
   "cell_type": "code",
   "execution_count": null,
   "id": "0453eba1-88aa-4793-a82c-b69b269c6dbe",
   "metadata": {},
   "outputs": [],
   "source": []
  },
  {
   "cell_type": "code",
   "execution_count": null,
   "id": "232b42bf-4cdc-4af7-b90c-e26ff1e6b881",
   "metadata": {},
   "outputs": [],
   "source": []
  },
  {
   "cell_type": "code",
   "execution_count": null,
   "id": "c41318e9-2f32-487e-9ba2-8c404c643ea4",
   "metadata": {},
   "outputs": [],
   "source": []
  }
 ],
 "metadata": {
  "kernelspec": {
   "display_name": "R",
   "language": "R",
   "name": "ir"
  },
  "language_info": {
   "codemirror_mode": "r",
   "file_extension": ".r",
   "mimetype": "text/x-r-source",
   "name": "R",
   "pygments_lexer": "r",
   "version": "4.5.1"
  }
 },
 "nbformat": 4,
 "nbformat_minor": 5
}
