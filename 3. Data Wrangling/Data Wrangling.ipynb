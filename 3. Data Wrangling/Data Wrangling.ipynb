{
 "cells": [
  {
   "cell_type": "code",
   "execution_count": 1,
   "id": "4154d64d-dc36-48b3-9d54-208ccc838607",
   "metadata": {},
   "outputs": [
    {
     "name": "stderr",
     "output_type": "stream",
     "text": [
      "── \u001b[1mAttaching core tidyverse packages\u001b[22m ──────────────────────── tidyverse 2.0.0 ──\n",
      "\u001b[32m✔\u001b[39m \u001b[34mdplyr    \u001b[39m 1.1.4     \u001b[32m✔\u001b[39m \u001b[34mreadr    \u001b[39m 2.1.5\n",
      "\u001b[32m✔\u001b[39m \u001b[34mforcats  \u001b[39m 1.0.0     \u001b[32m✔\u001b[39m \u001b[34mstringr  \u001b[39m 1.5.1\n",
      "\u001b[32m✔\u001b[39m \u001b[34mggplot2  \u001b[39m 3.5.2     \u001b[32m✔\u001b[39m \u001b[34mtibble   \u001b[39m 3.3.0\n",
      "\u001b[32m✔\u001b[39m \u001b[34mlubridate\u001b[39m 1.9.4     \u001b[32m✔\u001b[39m \u001b[34mtidyr    \u001b[39m 1.3.1\n",
      "\u001b[32m✔\u001b[39m \u001b[34mpurrr    \u001b[39m 1.1.0     \n",
      "── \u001b[1mConflicts\u001b[22m ────────────────────────────────────────── tidyverse_conflicts() ──\n",
      "\u001b[31m✖\u001b[39m \u001b[34mdplyr\u001b[39m::\u001b[32mfilter()\u001b[39m masks \u001b[34mstats\u001b[39m::filter()\n",
      "\u001b[31m✖\u001b[39m \u001b[34mdplyr\u001b[39m::\u001b[32mlag()\u001b[39m    masks \u001b[34mstats\u001b[39m::lag()\n",
      "\u001b[36mℹ\u001b[39m Use the conflicted package (\u001b[3m\u001b[34m<http://conflicted.r-lib.org/>\u001b[39m\u001b[23m) to force all conflicts to become errors\n",
      "\n",
      "Attaching package: ‘reshape2’\n",
      "\n",
      "\n",
      "The following object is masked from ‘package:tidyr’:\n",
      "\n",
      "    smiths\n",
      "\n",
      "\n",
      "Loading required package: gsw\n",
      "\n",
      "\u001b[1mRows: \u001b[22m\u001b[34m1048575\u001b[39m \u001b[1mColumns: \u001b[22m\u001b[34m4\u001b[39m\n",
      "\u001b[36m──\u001b[39m \u001b[1mColumn specification\u001b[22m \u001b[36m────────────────────────────────────────────────────────\u001b[39m\n",
      "\u001b[1mDelimiter:\u001b[22m \",\"\n",
      "\u001b[32mdbl\u001b[39m (4): DOY, x, y, Value\n",
      "\n",
      "\u001b[36mℹ\u001b[39m Use `spec()` to retrieve the full column specification for this data.\n",
      "\u001b[36mℹ\u001b[39m Specify the column types or set `show_col_types = FALSE` to quiet this message.\n"
     ]
    }
   ],
   "source": [
    ".libPaths(R.home('/opt/homebrew/Caskroom/miniforge/base/lib/R/library'))\n",
    "Output = '/Users/alexis/Library/CloudStorage/OneDrive-UniversityofNorthCarolinaatChapelHill/PHE Database/2. Coding/2.4. Data Wrangling/Output'\n",
    "cur_date = '080825'\n",
    "\n",
    "library(readxl)\n",
    "library(tidyverse)\n",
    "library(reshape2)\n",
    "library(lubridate)\n",
    "library(oce)\n",
    "\n",
    "# reading in files\n",
    "ohio_tmax_2020_df = read_csv(\"Input/Ohio_Tmax_2020.csv\")"
   ]
  },
  {
   "cell_type": "code",
   "execution_count": 2,
   "id": "af7530d4-0251-485e-8a78-1f25e49c11f0",
   "metadata": {},
   "outputs": [
    {
     "data": {
      "text/html": [
       "<table class=\"dataframe\">\n",
       "<caption>A tibble: 6 × 4</caption>\n",
       "<thead>\n",
       "\t<tr><th scope=col>DOY</th><th scope=col>x</th><th scope=col>y</th><th scope=col>Value</th></tr>\n",
       "\t<tr><th scope=col>&lt;dbl&gt;</th><th scope=col>&lt;dbl&gt;</th><th scope=col>&lt;dbl&gt;</th><th scope=col>&lt;dbl&gt;</th></tr>\n",
       "</thead>\n",
       "<tbody>\n",
       "\t<tr><td>50</td><td>2032326</td><td>4815818</td><td>76.1</td></tr>\n",
       "\t<tr><td>50</td><td>2033252</td><td>4815818</td><td>76.1</td></tr>\n",
       "\t<tr><td>50</td><td>2030473</td><td>4814892</td><td>75.9</td></tr>\n",
       "\t<tr><td>50</td><td>2031399</td><td>4814892</td><td>76.9</td></tr>\n",
       "\t<tr><td>50</td><td>2032326</td><td>4814892</td><td>76.5</td></tr>\n",
       "\t<tr><td>50</td><td>2033252</td><td>4814892</td><td>76.5</td></tr>\n",
       "</tbody>\n",
       "</table>\n"
      ],
      "text/latex": [
       "A tibble: 6 × 4\n",
       "\\begin{tabular}{llll}\n",
       " DOY & x & y & Value\\\\\n",
       " <dbl> & <dbl> & <dbl> & <dbl>\\\\\n",
       "\\hline\n",
       "\t 50 & 2032326 & 4815818 & 76.1\\\\\n",
       "\t 50 & 2033252 & 4815818 & 76.1\\\\\n",
       "\t 50 & 2030473 & 4814892 & 75.9\\\\\n",
       "\t 50 & 2031399 & 4814892 & 76.9\\\\\n",
       "\t 50 & 2032326 & 4814892 & 76.5\\\\\n",
       "\t 50 & 2033252 & 4814892 & 76.5\\\\\n",
       "\\end{tabular}\n"
      ],
      "text/markdown": [
       "\n",
       "A tibble: 6 × 4\n",
       "\n",
       "| DOY &lt;dbl&gt; | x &lt;dbl&gt; | y &lt;dbl&gt; | Value &lt;dbl&gt; |\n",
       "|---|---|---|---|\n",
       "| 50 | 2032326 | 4815818 | 76.1 |\n",
       "| 50 | 2033252 | 4815818 | 76.1 |\n",
       "| 50 | 2030473 | 4814892 | 75.9 |\n",
       "| 50 | 2031399 | 4814892 | 76.9 |\n",
       "| 50 | 2032326 | 4814892 | 76.5 |\n",
       "| 50 | 2033252 | 4814892 | 76.5 |\n",
       "\n"
      ],
      "text/plain": [
       "  DOY x       y       Value\n",
       "1 50  2032326 4815818 76.1 \n",
       "2 50  2033252 4815818 76.1 \n",
       "3 50  2030473 4814892 75.9 \n",
       "4 50  2031399 4814892 76.9 \n",
       "5 50  2032326 4814892 76.5 \n",
       "6 50  2033252 4814892 76.5 "
      ]
     },
     "metadata": {},
     "output_type": "display_data"
    }
   ],
   "source": [
    "head(ohio_tmax_2020_df)"
   ]
  },
  {
   "cell_type": "code",
   "execution_count": 3,
   "id": "dda27bac-9f9d-4fe3-8349-5578453f904f",
   "metadata": {},
   "outputs": [
    {
     "data": {
      "text/html": [
       "<table class=\"dataframe\">\n",
       "<caption>A tibble: 6 × 4</caption>\n",
       "<thead>\n",
       "\t<tr><th scope=col>x</th><th scope=col>y</th><th scope=col>Value</th><th scope=col>Date</th></tr>\n",
       "\t<tr><th scope=col>&lt;dbl&gt;</th><th scope=col>&lt;dbl&gt;</th><th scope=col>&lt;dbl&gt;</th><th scope=col>&lt;chr&gt;</th></tr>\n",
       "</thead>\n",
       "<tbody>\n",
       "\t<tr><td>2032326</td><td>4815818</td><td>76.1</td><td>02/20/2020</td></tr>\n",
       "\t<tr><td>2033252</td><td>4815818</td><td>76.1</td><td>02/20/2020</td></tr>\n",
       "\t<tr><td>2030473</td><td>4814892</td><td>75.9</td><td>02/20/2020</td></tr>\n",
       "\t<tr><td>2031399</td><td>4814892</td><td>76.9</td><td>02/20/2020</td></tr>\n",
       "\t<tr><td>2032326</td><td>4814892</td><td>76.5</td><td>02/20/2020</td></tr>\n",
       "\t<tr><td>2033252</td><td>4814892</td><td>76.5</td><td>02/20/2020</td></tr>\n",
       "</tbody>\n",
       "</table>\n"
      ],
      "text/latex": [
       "A tibble: 6 × 4\n",
       "\\begin{tabular}{llll}\n",
       " x & y & Value & Date\\\\\n",
       " <dbl> & <dbl> & <dbl> & <chr>\\\\\n",
       "\\hline\n",
       "\t 2032326 & 4815818 & 76.1 & 02/20/2020\\\\\n",
       "\t 2033252 & 4815818 & 76.1 & 02/20/2020\\\\\n",
       "\t 2030473 & 4814892 & 75.9 & 02/20/2020\\\\\n",
       "\t 2031399 & 4814892 & 76.9 & 02/20/2020\\\\\n",
       "\t 2032326 & 4814892 & 76.5 & 02/20/2020\\\\\n",
       "\t 2033252 & 4814892 & 76.5 & 02/20/2020\\\\\n",
       "\\end{tabular}\n"
      ],
      "text/markdown": [
       "\n",
       "A tibble: 6 × 4\n",
       "\n",
       "| x &lt;dbl&gt; | y &lt;dbl&gt; | Value &lt;dbl&gt; | Date &lt;chr&gt; |\n",
       "|---|---|---|---|\n",
       "| 2032326 | 4815818 | 76.1 | 02/20/2020 |\n",
       "| 2033252 | 4815818 | 76.1 | 02/20/2020 |\n",
       "| 2030473 | 4814892 | 75.9 | 02/20/2020 |\n",
       "| 2031399 | 4814892 | 76.9 | 02/20/2020 |\n",
       "| 2032326 | 4814892 | 76.5 | 02/20/2020 |\n",
       "| 2033252 | 4814892 | 76.5 | 02/20/2020 |\n",
       "\n"
      ],
      "text/plain": [
       "  x       y       Value Date      \n",
       "1 2032326 4815818 76.1  02/20/2020\n",
       "2 2033252 4815818 76.1  02/20/2020\n",
       "3 2030473 4814892 75.9  02/20/2020\n",
       "4 2031399 4814892 76.9  02/20/2020\n",
       "5 2032326 4814892 76.5  02/20/2020\n",
       "6 2033252 4814892 76.5  02/20/2020"
      ]
     },
     "metadata": {},
     "output_type": "display_data"
    }
   ],
   "source": [
    "convert_date = function(df, collection_year){\n",
    "    # converting the day of the year into a date with the month, day, and year\n",
    "    \n",
    "    new_df = df %>%\n",
    "        mutate(Month = month(as_date(DOY)), Day = mday(as_date(DOY)), Year = collection_year,\n",
    "           Date = format(make_date(month = Month, day = Day, year = Year), format = \"%m/%d/%Y\")) %>%\n",
    "        select(-c('DOY', \"Month\", \"Day\", \"Year\"))\n",
    "\n",
    "    return(new_df)\n",
    "    }\n",
    "\n",
    "# calling fn\n",
    "converted_tmax_2020_df = convert_date(ohio_tmax_2020_df, 2020)\n",
    "\n",
    "head(converted_tmax_2020_df)"
   ]
  },
  {
   "cell_type": "code",
   "execution_count": 21,
   "id": "3817a208-16c6-4efe-ac28-58da2a34e331",
   "metadata": {},
   "outputs": [
    {
     "ename": "ERROR",
     "evalue": "\u001b[1m\u001b[33mError\u001b[39m in `mutate()`:\u001b[22m\n\u001b[1m\u001b[22m\u001b[36mℹ\u001b[39m In argument: `coords = utm2lonlat(easting = x, northing = y, zone =\n  14)`.\n\u001b[1mCaused by error:\u001b[22m\n\u001b[1m\u001b[22m\u001b[33m!\u001b[39m `coords` must be size 1048575 or 1, not 2.\n",
     "output_type": "error",
     "traceback": [
      "\u001b[1m\u001b[33mError\u001b[39m in `mutate()`:\u001b[22m\n\u001b[1m\u001b[22m\u001b[36mℹ\u001b[39m In argument: `coords = utm2lonlat(easting = x, northing = y, zone =\n  14)`.\n\u001b[1mCaused by error:\u001b[22m\n\u001b[1m\u001b[22m\u001b[33m!\u001b[39m `coords` must be size 1048575 or 1, not 2.\nTraceback:\n",
      "1. df %>% mutate(coords = utm2lonlat(easting = x, northing = y, \n .     zone = 14), longitude = coords$longitude, latitude = coords$latitude) %>% \n .     select(-coords)",
      "2. select(., -coords)",
      "3. mutate(., coords = utm2lonlat(easting = x, northing = y, zone = 14), \n .     longitude = coords$longitude, latitude = coords$latitude)",
      "4. mutate.data.frame(., coords = utm2lonlat(easting = x, northing = y, \n .     zone = 14), longitude = coords$longitude, latitude = coords$latitude)",
      "5. mutate_cols(.data, dplyr_quosures(...), by)",
      "6. withCallingHandlers(for (i in seq_along(dots)) {\n .     poke_error_context(dots, i, mask = mask)\n .     context_poke(\"column\", old_current_column)\n .     new_columns <- mutate_col(dots[[i]], data, mask, new_columns)\n . }, error = dplyr_error_handler(dots = dots, mask = mask, bullets = mutate_bullets, \n .     error_call = error_call, error_class = \"dplyr:::mutate_error\"), \n .     warning = dplyr_warning_handler(state = warnings_state, mask = mask, \n .         error_call = error_call))",
      "7. mutate_col(dots[[i]], data, mask, new_columns)",
      "8. mask$eval_all_mutate(quo)",
      "9. eval()",
      "10. dplyr_internal_error(\"dplyr:::mutate_incompatible_size\", list(\n  .     result_size = 2L, expected_size = 1048575L))",
      "11. abort(class = c(class, \"dplyr:::internal_error\"), dplyr_error_data = data)",
      "12. signal_abort(cnd, .file)",
      "13. signalCondition(cnd)",
      "14. (function (cnd) \n  . {\n  .     local_error_context(dots, i = frame[[i_sym]], mask = mask)\n  .     if (inherits(cnd, \"dplyr:::internal_error\")) {\n  .         parent <- error_cnd(message = bullets(cnd))\n  .     }\n  .     else {\n  .         parent <- cnd\n  .     }\n  .     message <- c(cnd_bullet_header(action), i = if (has_active_group_context(mask)) cnd_bullet_cur_group_label())\n  .     abort(message, class = error_class, parent = parent, call = error_call)\n  . })(structure(list(message = \"\", trace = structure(list(call = list(\n  .     IRkernel::main(), kernel$run(), handle_shell(), executor$execute(msg), \n  .     tryCatch(evaluate(request$content$code, envir = .GlobalEnv, \n  .         output_handler = oh, stop_on_error = 1L), interrupt = function(cond) {\n  .         log_debug(\"Interrupt during execution\")\n  .         interrupted <<- TRUE\n  .     }, error = .self$handle_error), tryCatchList(expr, classes, \n  .         parentenv, handlers), tryCatchOne(tryCatchList(expr, \n  .         names[-nh], parentenv, handlers[-nh]), names[nh], parentenv, \n  .         handlers[[nh]]), doTryCatch(return(expr), name, parentenv, \n  .         handler), tryCatchList(expr, names[-nh], parentenv, handlers[-nh]), \n  .     tryCatchOne(expr, names, parentenv, handlers[[1L]]), doTryCatch(return(expr), \n  .         name, parentenv, handler), evaluate(request$content$code, \n  .         envir = .GlobalEnv, output_handler = oh, stop_on_error = 1L), \n  .     withRestarts(with_handlers({\n  .         for (expr in tle$exprs) {\n  .             ev <- withVisible(eval(expr, envir))\n  .             watcher$capture_plot_and_output()\n  .             watcher$print_value(ev$value, ev$visible, envir)\n  .         }\n  .         TRUE\n  .     }, handlers), eval_continue = function() TRUE, eval_stop = function() FALSE), \n  .     withRestartList(expr, restarts), withOneRestart(withRestartList(expr, \n  .         restarts[-nr]), restarts[[nr]]), doWithOneRestart(return(expr), \n  .         restart), withRestartList(expr, restarts[-nr]), withOneRestart(expr, \n  .         restarts[[1L]]), doWithOneRestart(return(expr), restart), \n  .     with_handlers({\n  .         for (expr in tle$exprs) {\n  .             ev <- withVisible(eval(expr, envir))\n  .             watcher$capture_plot_and_output()\n  .             watcher$print_value(ev$value, ev$visible, envir)\n  .         }\n  .         TRUE\n  .     }, handlers), eval(call), eval(call), withCallingHandlers(code, \n  .         message = `<fn>`, warning = `<fn>`, error = `<fn>`), \n  .     withVisible(eval(expr, envir)), eval(expr, envir), eval(expr, \n  .         envir), convert_coordinates(converted_tmax_2020_df), \n  .     df %>% mutate(coords = utm2lonlat(easting = x, northing = y, \n  .         zone = 14), longitude = coords$longitude, latitude = coords$latitude) %>% \n  .         select(-coords), select(., -coords), mutate(., coords = utm2lonlat(easting = x, \n  .         northing = y, zone = 14), longitude = coords$longitude, \n  .         latitude = coords$latitude), mutate.data.frame(., coords = utm2lonlat(easting = x, \n  .         northing = y, zone = 14), longitude = coords$longitude, \n  .         latitude = coords$latitude), mutate_cols(.data, dplyr_quosures(...), \n  .         by), withCallingHandlers(for (i in seq_along(dots)) {\n  .         poke_error_context(dots, i, mask = mask)\n  .         context_poke(\"column\", old_current_column)\n  .         new_columns <- mutate_col(dots[[i]], data, mask, new_columns)\n  .     }, error = dplyr_error_handler(dots = dots, mask = mask, \n  .         bullets = mutate_bullets, error_call = error_call, error_class = \"dplyr:::mutate_error\"), \n  .         warning = dplyr_warning_handler(state = warnings_state, \n  .             mask = mask, error_call = error_call)), mutate_col(dots[[i]], \n  .         data, mask, new_columns), mask$eval_all_mutate(quo), \n  .     eval(), dplyr_internal_error(\"dplyr:::mutate_incompatible_size\", \n  .         `<named list>`), abort(class = c(class, \"dplyr:::internal_error\"), \n  .         dplyr_error_data = data)), parent = c(0L, 1L, 2L, 3L, \n  . 4L, 5L, 6L, 7L, 6L, 9L, 10L, 4L, 12L, 13L, 14L, 15L, 14L, 17L, \n  . 18L, 12L, 20L, 21L, 20L, 12L, 12L, 25L, 0L, 27L, 0L, 0L, 0L, \n  . 31L, 32L, 32L, 34L, 35L, 0L, 37L), visible = c(TRUE, TRUE, TRUE, \n  . TRUE, TRUE, TRUE, TRUE, TRUE, TRUE, TRUE, TRUE, TRUE, TRUE, TRUE, \n  . TRUE, TRUE, TRUE, TRUE, TRUE, TRUE, TRUE, TRUE, TRUE, TRUE, TRUE, \n  . TRUE, TRUE, TRUE, TRUE, TRUE, TRUE, TRUE, TRUE, TRUE, TRUE, TRUE, \n  . TRUE, FALSE), namespace = c(\"IRkernel\", NA, \"IRkernel\", NA, \"base\", \n  . \"base\", \"base\", \"base\", \"base\", \"base\", \"base\", \"evaluate\", \"base\", \n  . \"base\", \"base\", \"base\", \"base\", \"base\", \"base\", \"evaluate\", \"base\", \n  . \"base\", \"base\", \"base\", \"base\", \"base\", NA, NA, \"dplyr\", \"dplyr\", \n  . \"dplyr\", \"dplyr\", \"base\", \"dplyr\", NA, \"dplyr\", \"dplyr\", \"rlang\"\n  . ), scope = c(\"::\", NA, \"local\", NA, \"::\", \"local\", \"local\", \"local\", \n  . \"local\", \"local\", \"local\", \"::\", \"::\", \"local\", \"local\", \"local\", \n  . \"local\", \"local\", \"local\", \":::\", \"::\", \"::\", \"::\", \"::\", \"::\", \n  . \"::\", \"global\", NA, \"::\", \"::\", \":::\", \":::\", \"::\", \":::\", NA, \n  . \"local\", \":::\", \"::\"), error_frame = c(FALSE, FALSE, FALSE, FALSE, \n  . FALSE, FALSE, FALSE, FALSE, FALSE, FALSE, FALSE, FALSE, FALSE, \n  . FALSE, FALSE, FALSE, FALSE, FALSE, FALSE, FALSE, FALSE, FALSE, \n  . FALSE, FALSE, FALSE, FALSE, FALSE, FALSE, FALSE, FALSE, FALSE, \n  . FALSE, FALSE, FALSE, FALSE, FALSE, TRUE, FALSE)), row.names = c(NA, \n  . -38L), version = 2L, class = c(\"rlang_trace\", \"rlib_trace\", \"tbl\", \n  . \"data.frame\")), parent = NULL, dplyr_error_data = list(result_size = 2L, \n  .     expected_size = 1048575L), rlang = list(inherit = TRUE), \n  .     call = dplyr_internal_error(\"dplyr:::mutate_incompatible_size\", \n  .         list(result_size = 2L, expected_size = 1048575L)), use_cli_format = TRUE), class = c(\"dplyr:::mutate_incompatible_size\", \n  . \"dplyr:::internal_error\", \"rlang_error\", \"error\", \"condition\"\n  . )))",
      "15. abort(message, class = error_class, parent = parent, call = error_call)",
      "16. signal_abort(cnd, .file)",
      "17. signalCondition(cnd)"
     ]
    }
   ],
   "source": [
    "convert_coordinates = function(df){\n",
    "    # converting utm coordinates to latitude and longitude\n",
    "\n",
    "    # zone 14 is for Ohio\n",
    "    # coordinates_df = data.frame()\n",
    "    # for (i in 1:length(df$x)){\n",
    "    #     conversion_object = utm2lonlat(df$x[i], df$y[i], zone = 14)\n",
    "\n",
    "    #     # saving values\n",
    "    #     coordinates_vector = c(conversion_object$latitude[[1]], \n",
    "    #                                 conversion_object$longitude[[1]])\n",
    "    #     coordinates_df = rbind(coordinates_df, coordinates_vector)\n",
    "    # }\n",
    "\n",
    "    # colnames(coordinates_df) = c(\"Latitude\", \"Longitude\")\n",
    "\n",
    "    coordinates_df = df %>%\n",
    "        mutate(coords = utm2lonlat(easting = x, northing = y, zone = 14),\n",
    "                longitude = coords$longitude,\n",
    "                latitude = coords$latitude) %>%\n",
    "        select(-coords)\n",
    "    \n",
    "    return(coordinates_df)\n",
    "}\n",
    "\n",
    "# calling fn\n",
    "final_tmax_2020_df = convert_coordinates(converted_tmax_2020_df)\n",
    "\n",
    "head(final_tmax_2020_df)"
   ]
  },
  {
   "cell_type": "code",
   "execution_count": null,
   "id": "7d73433a-c20e-45a9-800c-639ca11981c0",
   "metadata": {
    "scrolled": true
   },
   "outputs": [],
   "source": [
    "# combining dfs\n",
    "final_tmax_2020_df = cbind(converted_tmax_2020_df[,3:4], tmax_2020_lat_long_df)\n",
    "\n",
    "head(final_tmax_2020_df)"
   ]
  },
  {
   "cell_type": "code",
   "execution_count": 19,
   "id": "c6652d25-2d4a-48eb-a5f2-7e65226a6fb7",
   "metadata": {},
   "outputs": [
    {
     "data": {
      "text/html": [
       "<style>\n",
       ".list-inline {list-style: none; margin:0; padding: 0}\n",
       ".list-inline>li {display: inline-block}\n",
       ".list-inline>li:not(:last-child)::after {content: \"\\00b7\"; padding: 0 .5ex}\n",
       "</style>\n",
       "<ol class=list-inline><li>1048575</li><li>4</li></ol>\n"
      ],
      "text/latex": [
       "\\begin{enumerate*}\n",
       "\\item 1048575\n",
       "\\item 4\n",
       "\\end{enumerate*}\n"
      ],
      "text/markdown": [
       "1. 1048575\n",
       "2. 4\n",
       "\n",
       "\n"
      ],
      "text/plain": [
       "[1] 1048575       4"
      ]
     },
     "metadata": {},
     "output_type": "display_data"
    },
    {
     "data": {
      "text/html": [
       "<style>\n",
       ".list-inline {list-style: none; margin:0; padding: 0}\n",
       ".list-inline>li {display: inline-block}\n",
       ".list-inline>li:not(:last-child)::after {content: \"\\00b7\"; padding: 0 .5ex}\n",
       "</style>\n",
       "<ol class=list-inline><li>6</li><li>2</li></ol>\n"
      ],
      "text/latex": [
       "\\begin{enumerate*}\n",
       "\\item 6\n",
       "\\item 2\n",
       "\\end{enumerate*}\n"
      ],
      "text/markdown": [
       "1. 6\n",
       "2. 2\n",
       "\n",
       "\n"
      ],
      "text/plain": [
       "[1] 6 2"
      ]
     },
     "metadata": {},
     "output_type": "display_data"
    }
   ],
   "source": [
    "dim(converted_tmax_2020_df)\n",
    "dim(tmax_2020_lat_long_df)"
   ]
  },
  {
   "cell_type": "code",
   "execution_count": null,
   "id": "68912fc2-f7a0-446e-a0d3-206f11d0bf0a",
   "metadata": {},
   "outputs": [],
   "source": []
  }
 ],
 "metadata": {
  "kernelspec": {
   "display_name": "R",
   "language": "R",
   "name": "ir"
  },
  "language_info": {
   "codemirror_mode": "r",
   "file_extension": ".r",
   "mimetype": "text/x-r-source",
   "name": "R",
   "pygments_lexer": "r",
   "version": "4.5.1"
  }
 },
 "nbformat": 4,
 "nbformat_minor": 5
}
