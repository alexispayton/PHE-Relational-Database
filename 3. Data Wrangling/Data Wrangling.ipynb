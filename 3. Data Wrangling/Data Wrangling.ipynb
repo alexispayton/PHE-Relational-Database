{
 "cells": [
  {
   "cell_type": "code",
   "execution_count": 1,
   "id": "4154d64d-dc36-48b3-9d54-208ccc838607",
   "metadata": {},
   "outputs": [
    {
     "name": "stderr",
     "output_type": "stream",
     "text": [
      "── \u001b[1mAttaching core tidyverse packages\u001b[22m ──────────────────────── tidyverse 2.0.0 ──\n",
      "\u001b[32m✔\u001b[39m \u001b[34mdplyr    \u001b[39m 1.1.4     \u001b[32m✔\u001b[39m \u001b[34mreadr    \u001b[39m 2.1.5\n",
      "\u001b[32m✔\u001b[39m \u001b[34mforcats  \u001b[39m 1.0.0     \u001b[32m✔\u001b[39m \u001b[34mstringr  \u001b[39m 1.5.1\n",
      "\u001b[32m✔\u001b[39m \u001b[34mggplot2  \u001b[39m 3.5.2     \u001b[32m✔\u001b[39m \u001b[34mtibble   \u001b[39m 3.3.0\n",
      "\u001b[32m✔\u001b[39m \u001b[34mlubridate\u001b[39m 1.9.4     \u001b[32m✔\u001b[39m \u001b[34mtidyr    \u001b[39m 1.3.1\n",
      "\u001b[32m✔\u001b[39m \u001b[34mpurrr    \u001b[39m 1.1.0     \n",
      "── \u001b[1mConflicts\u001b[22m ────────────────────────────────────────── tidyverse_conflicts() ──\n",
      "\u001b[31m✖\u001b[39m \u001b[34mdplyr\u001b[39m::\u001b[32mfilter()\u001b[39m masks \u001b[34mstats\u001b[39m::filter()\n",
      "\u001b[31m✖\u001b[39m \u001b[34mdplyr\u001b[39m::\u001b[32mlag()\u001b[39m    masks \u001b[34mstats\u001b[39m::lag()\n",
      "\u001b[36mℹ\u001b[39m Use the conflicted package (\u001b[3m\u001b[34m<http://conflicted.r-lib.org/>\u001b[39m\u001b[23m) to force all conflicts to become errors\n",
      "\n",
      "Attaching package: ‘reshape2’\n",
      "\n",
      "\n",
      "The following object is masked from ‘package:tidyr’:\n",
      "\n",
      "    smiths\n",
      "\n",
      "\n",
      "Loading required package: gsw\n",
      "\n",
      "\u001b[1mRows: \u001b[22m\u001b[34m1048575\u001b[39m \u001b[1mColumns: \u001b[22m\u001b[34m4\u001b[39m\n",
      "\u001b[36m──\u001b[39m \u001b[1mColumn specification\u001b[22m \u001b[36m────────────────────────────────────────────────────────\u001b[39m\n",
      "\u001b[1mDelimiter:\u001b[22m \",\"\n",
      "\u001b[32mdbl\u001b[39m (4): DOY, x, y, Value\n",
      "\n",
      "\u001b[36mℹ\u001b[39m Use `spec()` to retrieve the full column specification for this data.\n",
      "\u001b[36mℹ\u001b[39m Specify the column types or set `show_col_types = FALSE` to quiet this message.\n"
     ]
    }
   ],
   "source": [
    ".libPaths(R.home('/opt/homebrew/Caskroom/miniforge/base/lib/R/library'))\n",
    "Output = '/Users/alexis/Library/CloudStorage/OneDrive-UniversityofNorthCarolinaatChapelHill/PHE Database/2. Coding/2.4. Data Wrangling/Output'\n",
    "cur_date = '080825'\n",
    "\n",
    "library(readxl)\n",
    "library(tidyverse)\n",
    "library(reshape2)\n",
    "library(lubridate)\n",
    "library(oce)\n",
    "\n",
    "# reading in files\n",
    "ohio_tmax_2020_df = read_csv(\"Input/Ohio_Tmax_2020.csv\")"
   ]
  },
  {
   "cell_type": "code",
   "execution_count": 2,
   "id": "af7530d4-0251-485e-8a78-1f25e49c11f0",
   "metadata": {},
   "outputs": [
    {
     "data": {
      "text/html": [
       "<table class=\"dataframe\">\n",
       "<caption>A tibble: 6 × 4</caption>\n",
       "<thead>\n",
       "\t<tr><th scope=col>DOY</th><th scope=col>x</th><th scope=col>y</th><th scope=col>Value</th></tr>\n",
       "\t<tr><th scope=col>&lt;dbl&gt;</th><th scope=col>&lt;dbl&gt;</th><th scope=col>&lt;dbl&gt;</th><th scope=col>&lt;dbl&gt;</th></tr>\n",
       "</thead>\n",
       "<tbody>\n",
       "\t<tr><td>50</td><td>2032326</td><td>4815818</td><td>76.1</td></tr>\n",
       "\t<tr><td>50</td><td>2033252</td><td>4815818</td><td>76.1</td></tr>\n",
       "\t<tr><td>50</td><td>2030473</td><td>4814892</td><td>75.9</td></tr>\n",
       "\t<tr><td>50</td><td>2031399</td><td>4814892</td><td>76.9</td></tr>\n",
       "\t<tr><td>50</td><td>2032326</td><td>4814892</td><td>76.5</td></tr>\n",
       "\t<tr><td>50</td><td>2033252</td><td>4814892</td><td>76.5</td></tr>\n",
       "</tbody>\n",
       "</table>\n"
      ],
      "text/latex": [
       "A tibble: 6 × 4\n",
       "\\begin{tabular}{llll}\n",
       " DOY & x & y & Value\\\\\n",
       " <dbl> & <dbl> & <dbl> & <dbl>\\\\\n",
       "\\hline\n",
       "\t 50 & 2032326 & 4815818 & 76.1\\\\\n",
       "\t 50 & 2033252 & 4815818 & 76.1\\\\\n",
       "\t 50 & 2030473 & 4814892 & 75.9\\\\\n",
       "\t 50 & 2031399 & 4814892 & 76.9\\\\\n",
       "\t 50 & 2032326 & 4814892 & 76.5\\\\\n",
       "\t 50 & 2033252 & 4814892 & 76.5\\\\\n",
       "\\end{tabular}\n"
      ],
      "text/markdown": [
       "\n",
       "A tibble: 6 × 4\n",
       "\n",
       "| DOY &lt;dbl&gt; | x &lt;dbl&gt; | y &lt;dbl&gt; | Value &lt;dbl&gt; |\n",
       "|---|---|---|---|\n",
       "| 50 | 2032326 | 4815818 | 76.1 |\n",
       "| 50 | 2033252 | 4815818 | 76.1 |\n",
       "| 50 | 2030473 | 4814892 | 75.9 |\n",
       "| 50 | 2031399 | 4814892 | 76.9 |\n",
       "| 50 | 2032326 | 4814892 | 76.5 |\n",
       "| 50 | 2033252 | 4814892 | 76.5 |\n",
       "\n"
      ],
      "text/plain": [
       "  DOY x       y       Value\n",
       "1 50  2032326 4815818 76.1 \n",
       "2 50  2033252 4815818 76.1 \n",
       "3 50  2030473 4814892 75.9 \n",
       "4 50  2031399 4814892 76.9 \n",
       "5 50  2032326 4814892 76.5 \n",
       "6 50  2033252 4814892 76.5 "
      ]
     },
     "metadata": {},
     "output_type": "display_data"
    }
   ],
   "source": [
    "head(ohio_tmax_2020_df)"
   ]
  },
  {
   "cell_type": "code",
   "execution_count": 3,
   "id": "dda27bac-9f9d-4fe3-8349-5578453f904f",
   "metadata": {},
   "outputs": [
    {
     "data": {
      "text/html": [
       "<table class=\"dataframe\">\n",
       "<caption>A tibble: 6 × 4</caption>\n",
       "<thead>\n",
       "\t<tr><th scope=col>x</th><th scope=col>y</th><th scope=col>Value</th><th scope=col>Date</th></tr>\n",
       "\t<tr><th scope=col>&lt;dbl&gt;</th><th scope=col>&lt;dbl&gt;</th><th scope=col>&lt;dbl&gt;</th><th scope=col>&lt;chr&gt;</th></tr>\n",
       "</thead>\n",
       "<tbody>\n",
       "\t<tr><td>2032326</td><td>4815818</td><td>76.1</td><td>02/20/2020</td></tr>\n",
       "\t<tr><td>2033252</td><td>4815818</td><td>76.1</td><td>02/20/2020</td></tr>\n",
       "\t<tr><td>2030473</td><td>4814892</td><td>75.9</td><td>02/20/2020</td></tr>\n",
       "\t<tr><td>2031399</td><td>4814892</td><td>76.9</td><td>02/20/2020</td></tr>\n",
       "\t<tr><td>2032326</td><td>4814892</td><td>76.5</td><td>02/20/2020</td></tr>\n",
       "\t<tr><td>2033252</td><td>4814892</td><td>76.5</td><td>02/20/2020</td></tr>\n",
       "</tbody>\n",
       "</table>\n"
      ],
      "text/latex": [
       "A tibble: 6 × 4\n",
       "\\begin{tabular}{llll}\n",
       " x & y & Value & Date\\\\\n",
       " <dbl> & <dbl> & <dbl> & <chr>\\\\\n",
       "\\hline\n",
       "\t 2032326 & 4815818 & 76.1 & 02/20/2020\\\\\n",
       "\t 2033252 & 4815818 & 76.1 & 02/20/2020\\\\\n",
       "\t 2030473 & 4814892 & 75.9 & 02/20/2020\\\\\n",
       "\t 2031399 & 4814892 & 76.9 & 02/20/2020\\\\\n",
       "\t 2032326 & 4814892 & 76.5 & 02/20/2020\\\\\n",
       "\t 2033252 & 4814892 & 76.5 & 02/20/2020\\\\\n",
       "\\end{tabular}\n"
      ],
      "text/markdown": [
       "\n",
       "A tibble: 6 × 4\n",
       "\n",
       "| x &lt;dbl&gt; | y &lt;dbl&gt; | Value &lt;dbl&gt; | Date &lt;chr&gt; |\n",
       "|---|---|---|---|\n",
       "| 2032326 | 4815818 | 76.1 | 02/20/2020 |\n",
       "| 2033252 | 4815818 | 76.1 | 02/20/2020 |\n",
       "| 2030473 | 4814892 | 75.9 | 02/20/2020 |\n",
       "| 2031399 | 4814892 | 76.9 | 02/20/2020 |\n",
       "| 2032326 | 4814892 | 76.5 | 02/20/2020 |\n",
       "| 2033252 | 4814892 | 76.5 | 02/20/2020 |\n",
       "\n"
      ],
      "text/plain": [
       "  x       y       Value Date      \n",
       "1 2032326 4815818 76.1  02/20/2020\n",
       "2 2033252 4815818 76.1  02/20/2020\n",
       "3 2030473 4814892 75.9  02/20/2020\n",
       "4 2031399 4814892 76.9  02/20/2020\n",
       "5 2032326 4814892 76.5  02/20/2020\n",
       "6 2033252 4814892 76.5  02/20/2020"
      ]
     },
     "metadata": {},
     "output_type": "display_data"
    }
   ],
   "source": [
    "convert_date = function(df, collection_year){\n",
    "    # converting the day of the year into a date with the month, day, and year\n",
    "    \n",
    "    new_df = df %>%\n",
    "        mutate(Month = month(as_date(DOY)), Day = mday(as_date(DOY)), Year = collection_year,\n",
    "           Date = format(make_date(month = Month, day = Day, year = Year), format = \"%m/%d/%Y\")) %>%\n",
    "        select(-c('DOY', \"Month\", \"Day\", \"Year\"))\n",
    "\n",
    "    return(new_df)\n",
    "    }\n",
    "\n",
    "# calling fn\n",
    "converted_tmax_2020_df = convert_date(ohio_tmax_2020_df, 2020)\n",
    "\n",
    "head(converted_tmax_2020_df)"
   ]
  },
  {
   "cell_type": "code",
   "execution_count": 28,
   "id": "3817a208-16c6-4efe-ac28-58da2a34e331",
   "metadata": {},
   "outputs": [
    {
     "data": {
      "text/html": [
       "<table class=\"dataframe\">\n",
       "<caption>A tibble: 6 × 4</caption>\n",
       "<thead>\n",
       "\t<tr><th scope=col>Value</th><th scope=col>Date</th><th scope=col>Latitude</th><th scope=col>Longitude</th></tr>\n",
       "\t<tr><th scope=col>&lt;dbl&gt;</th><th scope=col>&lt;chr&gt;</th><th scope=col>&lt;dbl&gt;</th><th scope=col>&lt;dbl&gt;</th></tr>\n",
       "</thead>\n",
       "<tbody>\n",
       "\t<tr><td>76.1</td><td>02/20/2020</td><td>-80.53294</td><td>41.98001</td></tr>\n",
       "\t<tr><td>76.1</td><td>02/20/2020</td><td>-80.52234</td><td>41.97824</td></tr>\n",
       "\t<tr><td>75.9</td><td>02/20/2020</td><td>-80.55653</td><td>41.97562</td></tr>\n",
       "\t<tr><td>76.9</td><td>02/20/2020</td><td>-80.54592</td><td>41.97386</td></tr>\n",
       "\t<tr><td>76.5</td><td>02/20/2020</td><td>-80.53531</td><td>41.97209</td></tr>\n",
       "\t<tr><td>76.5</td><td>02/20/2020</td><td>-80.52471</td><td>41.97032</td></tr>\n",
       "</tbody>\n",
       "</table>\n"
      ],
      "text/latex": [
       "A tibble: 6 × 4\n",
       "\\begin{tabular}{llll}\n",
       " Value & Date & Latitude & Longitude\\\\\n",
       " <dbl> & <chr> & <dbl> & <dbl>\\\\\n",
       "\\hline\n",
       "\t 76.1 & 02/20/2020 & -80.53294 & 41.98001\\\\\n",
       "\t 76.1 & 02/20/2020 & -80.52234 & 41.97824\\\\\n",
       "\t 75.9 & 02/20/2020 & -80.55653 & 41.97562\\\\\n",
       "\t 76.9 & 02/20/2020 & -80.54592 & 41.97386\\\\\n",
       "\t 76.5 & 02/20/2020 & -80.53531 & 41.97209\\\\\n",
       "\t 76.5 & 02/20/2020 & -80.52471 & 41.97032\\\\\n",
       "\\end{tabular}\n"
      ],
      "text/markdown": [
       "\n",
       "A tibble: 6 × 4\n",
       "\n",
       "| Value &lt;dbl&gt; | Date &lt;chr&gt; | Latitude &lt;dbl&gt; | Longitude &lt;dbl&gt; |\n",
       "|---|---|---|---|\n",
       "| 76.1 | 02/20/2020 | -80.53294 | 41.98001 |\n",
       "| 76.1 | 02/20/2020 | -80.52234 | 41.97824 |\n",
       "| 75.9 | 02/20/2020 | -80.55653 | 41.97562 |\n",
       "| 76.9 | 02/20/2020 | -80.54592 | 41.97386 |\n",
       "| 76.5 | 02/20/2020 | -80.53531 | 41.97209 |\n",
       "| 76.5 | 02/20/2020 | -80.52471 | 41.97032 |\n",
       "\n"
      ],
      "text/plain": [
       "  Value Date       Latitude  Longitude\n",
       "1 76.1  02/20/2020 -80.53294 41.98001 \n",
       "2 76.1  02/20/2020 -80.52234 41.97824 \n",
       "3 75.9  02/20/2020 -80.55653 41.97562 \n",
       "4 76.9  02/20/2020 -80.54592 41.97386 \n",
       "5 76.5  02/20/2020 -80.53531 41.97209 \n",
       "6 76.5  02/20/2020 -80.52471 41.97032 "
      ]
     },
     "metadata": {},
     "output_type": "display_data"
    }
   ],
   "source": [
    "convert_coordinates = function(df){\n",
    "    # converting utm coordinates to latitude and longitude\n",
    "\n",
    "    coordinates_df = df %>%\n",
    "        # zone 14 is for Ohio\n",
    "        mutate(Latitude = utm2lonlat(easting = x, northing = y, zone = 14)[[1]],\n",
    "              Longitude = utm2lonlat(easting = x, northing = y, zone = 14)[[2]]) %>%\n",
    "        select(-c('x', 'y'))\n",
    "    \n",
    "    return(coordinates_df)\n",
    "}\n",
    "\n",
    "# calling fn\n",
    "final_tmax_2020_df = convert_coordinates(converted_tmax_2020_df)\n",
    "\n",
    "head(final_tmax_2020_df)"
   ]
  },
  {
   "cell_type": "markdown",
   "id": "6b5a4314-929a-4eec-b72e-5ec6edc662b3",
   "metadata": {},
   "source": [
    "Now breaking these data up into the dataframes that they will be stored in for the database. We'll have separate dataframes for each year. "
   ]
  },
  {
   "cell_type": "code",
   "execution_count": null,
   "id": "2c0f02b7-5ea2-49f4-90cf-35230fc394b9",
   "metadata": {},
   "outputs": [],
   "source": []
  }
 ],
 "metadata": {
  "kernelspec": {
   "display_name": "R",
   "language": "R",
   "name": "ir"
  },
  "language_info": {
   "codemirror_mode": "r",
   "file_extension": ".r",
   "mimetype": "text/x-r-source",
   "name": "R",
   "pygments_lexer": "r",
   "version": "4.5.1"
  }
 },
 "nbformat": 4,
 "nbformat_minor": 5
}
